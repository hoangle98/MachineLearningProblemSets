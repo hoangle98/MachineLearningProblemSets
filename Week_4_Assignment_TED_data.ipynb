{
  "nbformat": 4,
  "nbformat_minor": 0,
  "metadata": {
    "kernelspec": {
      "name": "python3",
      "display_name": "Python 3",
      "language": "python"
    },
    "language_info": {
      "file_extension": ".py",
      "mimetype": "text/x-python",
      "pygments_lexer": "ipython3",
      "name": "python",
      "codemirror_mode": {
        "name": "ipython",
        "version": 3
      },
      "version": "3.6.3",
      "nbconvert_exporter": "python"
    },
    "colab": {
      "name": "Week_4_Assignment_TED_data.ipynb",
      "provenance": [],
      "collapsed_sections": [
        "BWwLAO2UU4Df"
      ],
      "include_colab_link": true
    }
  },
  "cells": [
    {
      "cell_type": "markdown",
      "metadata": {
        "id": "view-in-github",
        "colab_type": "text"
      },
      "source": [
        "<a href=\"https://colab.research.google.com/github/hoangle98/MachineLearningProblemSets/blob/master/Week_4_Assignment_TED_data.ipynb\" target=\"_parent\"><img src=\"https://colab.research.google.com/assets/colab-badge.svg\" alt=\"Open In Colab\"/></a>"
      ]
    },
    {
      "cell_type": "code",
      "metadata": {
        "_cell_guid": "81d127aa-551f-4fdb-98fb-8dca2d2faea1",
        "_uuid": "f5aee6a6d370cdfcfecf9d4d2f3d65445be12b0b",
        "id": "sPlgZLLEU4C0",
        "colab_type": "code",
        "colab": {}
      },
      "source": [
        "%matplotlib inline\n",
        "import pandas as pd\n",
        "import numpy as np\n",
        "from scipy import stats\n",
        "import matplotlib.pyplot as plt\n",
        "import seaborn as sns\n",
        "import json\n",
        "from pandas.io.json import json_normalize\n",
        "from wordcloud import WordCloud, STOPWORDS"
      ],
      "execution_count": 171,
      "outputs": []
    },
    {
      "cell_type": "code",
      "metadata": {
        "id": "lKCe8gEmVj6Y",
        "colab_type": "code",
        "colab": {
          "base_uri": "https://localhost:8080/",
          "height": 34
        },
        "outputId": "7a1afc00-a54c-4c43-86f8-bb729ba82efb"
      },
      "source": [
        "# mount drive to notebook\n",
        "from google.colab import drive\n",
        "drive.mount('/content/drive')"
      ],
      "execution_count": 172,
      "outputs": [
        {
          "output_type": "stream",
          "text": [
            "Drive already mounted at /content/drive; to attempt to forcibly remount, call drive.mount(\"/content/drive\", force_remount=True).\n"
          ],
          "name": "stdout"
        }
      ]
    },
    {
      "cell_type": "code",
      "metadata": {
        "id": "Yy33RDoMVqyJ",
        "colab_type": "code",
        "colab": {
          "base_uri": "https://localhost:8080/",
          "height": 51
        },
        "outputId": "52a095e8-8558-4a0f-e55b-9a79ffa9812e"
      },
      "source": [
        "% cd '/content/drive/My Drive/Colab Notebooks/DevC'\n",
        "!ls"
      ],
      "execution_count": 173,
      "outputs": [
        {
          "output_type": "stream",
          "text": [
            "/content/drive/My Drive/Colab Notebooks/DevC\n",
            "'Copy of Practical Python + SQL.ipynb'\t'Learn Tableau'   ted.csv   ted.ipynb\n"
          ],
          "name": "stdout"
        }
      ]
    },
    {
      "cell_type": "code",
      "metadata": {
        "_cell_guid": "9b5a1aee-5f65-4330-98c7-fec99eadec2f",
        "_uuid": "4d28c92cf4f9819412d6f1280193f6f349dd9aaa",
        "id": "B1JVnqmuU4C3",
        "colab_type": "code",
        "colab": {}
      },
      "source": [
        "month_order = ['Jan', 'Feb', 'Mar', 'Apr', 'May', 'Jun', 'Jul', 'Aug', 'Sep', 'Oct', 'Nov', 'Dec']\n",
        "day_order = ['Mon', 'Tue', 'Wed', 'Thu', 'Fri', 'Sat', 'Sun']"
      ],
      "execution_count": 174,
      "outputs": []
    },
    {
      "cell_type": "code",
      "metadata": {
        "_cell_guid": "ceaff6d2-c09a-4b3f-8084-5bb584416c5a",
        "_uuid": "479dccef1e2f6bb6f437456322b4b9910ab580aa",
        "id": "COe8PYw8U4C7",
        "colab_type": "code",
        "colab": {
          "base_uri": "https://localhost:8080/",
          "height": 102
        },
        "outputId": "bc034208-0682-4e05-b0dc-b619711881ed"
      },
      "source": [
        "df = pd.read_csv('ted.csv')\n",
        "df.columns"
      ],
      "execution_count": 175,
      "outputs": [
        {
          "output_type": "execute_result",
          "data": {
            "text/plain": [
              "Index(['comments', 'description', 'duration', 'event', 'film_date',\n",
              "       'languages', 'main_speaker', 'name', 'num_speaker', 'published_date',\n",
              "       'ratings', 'related_talks', 'speaker_occupation', 'tags', 'title',\n",
              "       'url', 'views'],\n",
              "      dtype='object')"
            ]
          },
          "metadata": {
            "tags": []
          },
          "execution_count": 175
        }
      ]
    },
    {
      "cell_type": "code",
      "metadata": {
        "_cell_guid": "5c451547-8698-46dd-8601-7fb5eb5fb0ce",
        "_uuid": "8da46788500232825223f58538d17145ae479edc",
        "id": "DIX2hdrJU4C-",
        "colab_type": "code",
        "colab": {}
      },
      "source": [
        "df = df[['name', 'title', 'description', 'main_speaker', 'speaker_occupation', 'num_speaker', 'duration', 'event', 'film_date', 'published_date', 'comments', 'tags', 'languages', 'ratings', 'related_talks', 'url', 'views']]"
      ],
      "execution_count": 176,
      "outputs": []
    },
    {
      "cell_type": "code",
      "metadata": {
        "_cell_guid": "6b9ad741-5ed3-4005-bac8-23803704e06e",
        "_uuid": "eac5ed632db5bef828e0ee57ada88216a77fb6a7",
        "id": "jeAMAtR5U4DC",
        "colab_type": "code",
        "colab": {}
      },
      "source": [
        "import datetime\n",
        "df['film_date'] = df['film_date'].apply(lambda x: datetime.datetime.fromtimestamp( int(x)).strftime('%d-%m-%Y'))\n",
        "df['published_date'] = df['published_date'].apply(lambda x: datetime.datetime.fromtimestamp( int(x)).strftime('%d-%m-%Y'))"
      ],
      "execution_count": 177,
      "outputs": []
    },
    {
      "cell_type": "code",
      "metadata": {
        "_cell_guid": "1970eaa9-ba54-49fb-af1a-e90147f7b75c",
        "_uuid": "8f38db41e1feb178a8c381a5a24449e6803b5d78",
        "id": "JlOiD99vU4DE",
        "colab_type": "code",
        "colab": {
          "base_uri": "https://localhost:8080/",
          "height": 598
        },
        "outputId": "4febf631-ed37-492a-b42c-f20b57b6b326"
      },
      "source": [
        "df.head()"
      ],
      "execution_count": 178,
      "outputs": [
        {
          "output_type": "execute_result",
          "data": {
            "text/html": [
              "<div>\n",
              "<style scoped>\n",
              "    .dataframe tbody tr th:only-of-type {\n",
              "        vertical-align: middle;\n",
              "    }\n",
              "\n",
              "    .dataframe tbody tr th {\n",
              "        vertical-align: top;\n",
              "    }\n",
              "\n",
              "    .dataframe thead th {\n",
              "        text-align: right;\n",
              "    }\n",
              "</style>\n",
              "<table border=\"1\" class=\"dataframe\">\n",
              "  <thead>\n",
              "    <tr style=\"text-align: right;\">\n",
              "      <th></th>\n",
              "      <th>name</th>\n",
              "      <th>title</th>\n",
              "      <th>description</th>\n",
              "      <th>main_speaker</th>\n",
              "      <th>speaker_occupation</th>\n",
              "      <th>num_speaker</th>\n",
              "      <th>duration</th>\n",
              "      <th>event</th>\n",
              "      <th>film_date</th>\n",
              "      <th>published_date</th>\n",
              "      <th>comments</th>\n",
              "      <th>tags</th>\n",
              "      <th>languages</th>\n",
              "      <th>ratings</th>\n",
              "      <th>related_talks</th>\n",
              "      <th>url</th>\n",
              "      <th>views</th>\n",
              "    </tr>\n",
              "  </thead>\n",
              "  <tbody>\n",
              "    <tr>\n",
              "      <th>0</th>\n",
              "      <td>Ken Robinson: Do schools kill creativity?</td>\n",
              "      <td>Do schools kill creativity?</td>\n",
              "      <td>Sir Ken Robinson makes an entertaining and pro...</td>\n",
              "      <td>Ken Robinson</td>\n",
              "      <td>Author/educator</td>\n",
              "      <td>1</td>\n",
              "      <td>1164</td>\n",
              "      <td>TED2006</td>\n",
              "      <td>25-02-2006</td>\n",
              "      <td>27-06-2006</td>\n",
              "      <td>4553</td>\n",
              "      <td>['children', 'creativity', 'culture', 'dance',...</td>\n",
              "      <td>60</td>\n",
              "      <td>[{'id': 7, 'name': 'Funny', 'count': 19645}, {...</td>\n",
              "      <td>[{'id': 865, 'hero': 'https://pe.tedcdn.com/im...</td>\n",
              "      <td>https://www.ted.com/talks/ken_robinson_says_sc...</td>\n",
              "      <td>47227110</td>\n",
              "    </tr>\n",
              "    <tr>\n",
              "      <th>1</th>\n",
              "      <td>Al Gore: Averting the climate crisis</td>\n",
              "      <td>Averting the climate crisis</td>\n",
              "      <td>With the same humor and humanity he exuded in ...</td>\n",
              "      <td>Al Gore</td>\n",
              "      <td>Climate advocate</td>\n",
              "      <td>1</td>\n",
              "      <td>977</td>\n",
              "      <td>TED2006</td>\n",
              "      <td>25-02-2006</td>\n",
              "      <td>27-06-2006</td>\n",
              "      <td>265</td>\n",
              "      <td>['alternative energy', 'cars', 'climate change...</td>\n",
              "      <td>43</td>\n",
              "      <td>[{'id': 7, 'name': 'Funny', 'count': 544}, {'i...</td>\n",
              "      <td>[{'id': 243, 'hero': 'https://pe.tedcdn.com/im...</td>\n",
              "      <td>https://www.ted.com/talks/al_gore_on_averting_...</td>\n",
              "      <td>3200520</td>\n",
              "    </tr>\n",
              "    <tr>\n",
              "      <th>2</th>\n",
              "      <td>David Pogue: Simplicity sells</td>\n",
              "      <td>Simplicity sells</td>\n",
              "      <td>New York Times columnist David Pogue takes aim...</td>\n",
              "      <td>David Pogue</td>\n",
              "      <td>Technology columnist</td>\n",
              "      <td>1</td>\n",
              "      <td>1286</td>\n",
              "      <td>TED2006</td>\n",
              "      <td>24-02-2006</td>\n",
              "      <td>27-06-2006</td>\n",
              "      <td>124</td>\n",
              "      <td>['computers', 'entertainment', 'interface desi...</td>\n",
              "      <td>26</td>\n",
              "      <td>[{'id': 7, 'name': 'Funny', 'count': 964}, {'i...</td>\n",
              "      <td>[{'id': 1725, 'hero': 'https://pe.tedcdn.com/i...</td>\n",
              "      <td>https://www.ted.com/talks/david_pogue_says_sim...</td>\n",
              "      <td>1636292</td>\n",
              "    </tr>\n",
              "    <tr>\n",
              "      <th>3</th>\n",
              "      <td>Majora Carter: Greening the ghetto</td>\n",
              "      <td>Greening the ghetto</td>\n",
              "      <td>In an emotionally charged talk, MacArthur-winn...</td>\n",
              "      <td>Majora Carter</td>\n",
              "      <td>Activist for environmental justice</td>\n",
              "      <td>1</td>\n",
              "      <td>1116</td>\n",
              "      <td>TED2006</td>\n",
              "      <td>26-02-2006</td>\n",
              "      <td>27-06-2006</td>\n",
              "      <td>200</td>\n",
              "      <td>['MacArthur grant', 'activism', 'business', 'c...</td>\n",
              "      <td>35</td>\n",
              "      <td>[{'id': 3, 'name': 'Courageous', 'count': 760}...</td>\n",
              "      <td>[{'id': 1041, 'hero': 'https://pe.tedcdn.com/i...</td>\n",
              "      <td>https://www.ted.com/talks/majora_carter_s_tale...</td>\n",
              "      <td>1697550</td>\n",
              "    </tr>\n",
              "    <tr>\n",
              "      <th>4</th>\n",
              "      <td>Hans Rosling: The best stats you've ever seen</td>\n",
              "      <td>The best stats you've ever seen</td>\n",
              "      <td>You've never seen data presented like this. Wi...</td>\n",
              "      <td>Hans Rosling</td>\n",
              "      <td>Global health expert; data visionary</td>\n",
              "      <td>1</td>\n",
              "      <td>1190</td>\n",
              "      <td>TED2006</td>\n",
              "      <td>22-02-2006</td>\n",
              "      <td>27-06-2006</td>\n",
              "      <td>593</td>\n",
              "      <td>['Africa', 'Asia', 'Google', 'demo', 'economic...</td>\n",
              "      <td>48</td>\n",
              "      <td>[{'id': 9, 'name': 'Ingenious', 'count': 3202}...</td>\n",
              "      <td>[{'id': 2056, 'hero': 'https://pe.tedcdn.com/i...</td>\n",
              "      <td>https://www.ted.com/talks/hans_rosling_shows_t...</td>\n",
              "      <td>12005869</td>\n",
              "    </tr>\n",
              "  </tbody>\n",
              "</table>\n",
              "</div>"
            ],
            "text/plain": [
              "                                            name  ...     views\n",
              "0      Ken Robinson: Do schools kill creativity?  ...  47227110\n",
              "1           Al Gore: Averting the climate crisis  ...   3200520\n",
              "2                  David Pogue: Simplicity sells  ...   1636292\n",
              "3             Majora Carter: Greening the ghetto  ...   1697550\n",
              "4  Hans Rosling: The best stats you've ever seen  ...  12005869\n",
              "\n",
              "[5 rows x 17 columns]"
            ]
          },
          "metadata": {
            "tags": []
          },
          "execution_count": 178
        }
      ]
    },
    {
      "cell_type": "code",
      "metadata": {
        "id": "yqkznxQkW0_8",
        "colab_type": "code",
        "colab": {
          "base_uri": "https://localhost:8080/",
          "height": 323
        },
        "outputId": "211cf848-1a45-4d8d-88f1-368a773c263e"
      },
      "source": [
        "df.iloc[-1]"
      ],
      "execution_count": 179,
      "outputs": [
        {
          "output_type": "execute_result",
          "data": {
            "text/plain": [
              "name                  Karoliina Korppoo: How a video game might help...\n",
              "title                 How a video game might help us build better ci...\n",
              "description           With more than half of the world population li...\n",
              "main_speaker                                          Karoliina Korppoo\n",
              "speaker_occupation                                        Game designer\n",
              "num_speaker                                                           1\n",
              "duration                                                            519\n",
              "event                                                           TED2017\n",
              "film_date                                                    24-04-2017\n",
              "published_date                                               22-09-2017\n",
              "comments                                                              8\n",
              "tags                  ['cities', 'design', 'future', 'infrastructure...\n",
              "languages                                                             1\n",
              "ratings               [{'id': 21, 'name': 'Unconvincing', 'count': 2...\n",
              "related_talks         [{'id': 2682, 'hero': 'https://pe.tedcdn.com/i...\n",
              "url                   https://www.ted.com/talks/karoliina_korppoo_ho...\n",
              "views                                                            391721\n",
              "Name: 2549, dtype: object"
            ]
          },
          "metadata": {
            "tags": []
          },
          "execution_count": 179
        }
      ]
    },
    {
      "cell_type": "code",
      "metadata": {
        "_cell_guid": "d904434b-515e-4e92-b625-64c26a21c10f",
        "_uuid": "09c99367de5f27fc99e271a896520f670770c988",
        "id": "pWQhLO1aU4DH",
        "colab_type": "code",
        "colab": {
          "base_uri": "https://localhost:8080/",
          "height": 34
        },
        "outputId": "d07ab802-4223-49d5-c34f-8bcf5b685b22"
      },
      "source": [
        "len(df)"
      ],
      "execution_count": 180,
      "outputs": [
        {
          "output_type": "execute_result",
          "data": {
            "text/plain": [
              "2550"
            ]
          },
          "metadata": {
            "tags": []
          },
          "execution_count": 180
        }
      ]
    },
    {
      "cell_type": "markdown",
      "metadata": {
        "_cell_guid": "2453e389-c69f-479c-9884-099dd125364c",
        "_uuid": "7e0523d52f9c2e2f96d3788a75a489504b32d669",
        "id": "EqZ6NgiRU4DK",
        "colab_type": "text"
      },
      "source": [
        "Total 2550 talks"
      ]
    },
    {
      "cell_type": "markdown",
      "metadata": {
        "_cell_guid": "a7fd7f25-4e6b-4997-8a1f-be04f082a232",
        "_uuid": "ef774681d66f1dbc83771d148c598cb7cddbf213",
        "id": "oDxsiVTSU4DK",
        "colab_type": "text"
      },
      "source": [
        "Top 10 TED talks views"
      ]
    },
    {
      "cell_type": "code",
      "metadata": {
        "_cell_guid": "3368a521-1ab6-416b-a62a-9651a0bfb0df",
        "_uuid": "ceff8426a08f8c6e40141758e02aa9a47e16948c",
        "id": "Xnixa7yIU4DL",
        "colab_type": "code",
        "colab": {
          "base_uri": "https://localhost:8080/",
          "height": 359
        },
        "outputId": "8160b42a-62b3-4e4b-e3a2-b70462c3d15f"
      },
      "source": [
        "pop_talks = df[['title', 'main_speaker', 'views', 'film_date']].sort_values('views', ascending=False)[:10]\n",
        "pop_talks"
      ],
      "execution_count": 181,
      "outputs": [
        {
          "output_type": "execute_result",
          "data": {
            "text/html": [
              "<div>\n",
              "<style scoped>\n",
              "    .dataframe tbody tr th:only-of-type {\n",
              "        vertical-align: middle;\n",
              "    }\n",
              "\n",
              "    .dataframe tbody tr th {\n",
              "        vertical-align: top;\n",
              "    }\n",
              "\n",
              "    .dataframe thead th {\n",
              "        text-align: right;\n",
              "    }\n",
              "</style>\n",
              "<table border=\"1\" class=\"dataframe\">\n",
              "  <thead>\n",
              "    <tr style=\"text-align: right;\">\n",
              "      <th></th>\n",
              "      <th>title</th>\n",
              "      <th>main_speaker</th>\n",
              "      <th>views</th>\n",
              "      <th>film_date</th>\n",
              "    </tr>\n",
              "  </thead>\n",
              "  <tbody>\n",
              "    <tr>\n",
              "      <th>0</th>\n",
              "      <td>Do schools kill creativity?</td>\n",
              "      <td>Ken Robinson</td>\n",
              "      <td>47227110</td>\n",
              "      <td>25-02-2006</td>\n",
              "    </tr>\n",
              "    <tr>\n",
              "      <th>1346</th>\n",
              "      <td>Your body language may shape who you are</td>\n",
              "      <td>Amy Cuddy</td>\n",
              "      <td>43155405</td>\n",
              "      <td>26-06-2012</td>\n",
              "    </tr>\n",
              "    <tr>\n",
              "      <th>677</th>\n",
              "      <td>How great leaders inspire action</td>\n",
              "      <td>Simon Sinek</td>\n",
              "      <td>34309432</td>\n",
              "      <td>17-09-2009</td>\n",
              "    </tr>\n",
              "    <tr>\n",
              "      <th>837</th>\n",
              "      <td>The power of vulnerability</td>\n",
              "      <td>Brené Brown</td>\n",
              "      <td>31168150</td>\n",
              "      <td>06-06-2010</td>\n",
              "    </tr>\n",
              "    <tr>\n",
              "      <th>452</th>\n",
              "      <td>10 things you didn't know about orgasm</td>\n",
              "      <td>Mary Roach</td>\n",
              "      <td>22270883</td>\n",
              "      <td>06-02-2009</td>\n",
              "    </tr>\n",
              "    <tr>\n",
              "      <th>1776</th>\n",
              "      <td>How to speak so that people want to listen</td>\n",
              "      <td>Julian Treasure</td>\n",
              "      <td>21594632</td>\n",
              "      <td>10-06-2013</td>\n",
              "    </tr>\n",
              "    <tr>\n",
              "      <th>201</th>\n",
              "      <td>My stroke of insight</td>\n",
              "      <td>Jill Bolte Taylor</td>\n",
              "      <td>21190883</td>\n",
              "      <td>27-02-2008</td>\n",
              "    </tr>\n",
              "    <tr>\n",
              "      <th>5</th>\n",
              "      <td>Why we do what we do</td>\n",
              "      <td>Tony Robbins</td>\n",
              "      <td>20685401</td>\n",
              "      <td>02-02-2006</td>\n",
              "    </tr>\n",
              "    <tr>\n",
              "      <th>2114</th>\n",
              "      <td>This is what happens when you reply to spam email</td>\n",
              "      <td>James Veitch</td>\n",
              "      <td>20475972</td>\n",
              "      <td>08-12-2015</td>\n",
              "    </tr>\n",
              "    <tr>\n",
              "      <th>1416</th>\n",
              "      <td>Looks aren't everything. Believe me, I'm a model.</td>\n",
              "      <td>Cameron Russell</td>\n",
              "      <td>19787465</td>\n",
              "      <td>27-10-2012</td>\n",
              "    </tr>\n",
              "  </tbody>\n",
              "</table>\n",
              "</div>"
            ],
            "text/plain": [
              "                                                  title  ...   film_date\n",
              "0                           Do schools kill creativity?  ...  25-02-2006\n",
              "1346           Your body language may shape who you are  ...  26-06-2012\n",
              "677                    How great leaders inspire action  ...  17-09-2009\n",
              "837                          The power of vulnerability  ...  06-06-2010\n",
              "452              10 things you didn't know about orgasm  ...  06-02-2009\n",
              "1776         How to speak so that people want to listen  ...  10-06-2013\n",
              "201                                My stroke of insight  ...  27-02-2008\n",
              "5                                  Why we do what we do  ...  02-02-2006\n",
              "2114  This is what happens when you reply to spam email  ...  08-12-2015\n",
              "1416  Looks aren't everything. Believe me, I'm a model.  ...  27-10-2012\n",
              "\n",
              "[10 rows x 4 columns]"
            ]
          },
          "metadata": {
            "tags": []
          },
          "execution_count": 181
        }
      ]
    },
    {
      "cell_type": "code",
      "metadata": {
        "_cell_guid": "0fb582a9-21b4-4cb7-b906-068d191f4b0f",
        "_uuid": "a19cd7d7e176a78c8eb38cf8289ad950d000240d",
        "id": "nOzLz6PQU4DS",
        "colab_type": "code",
        "colab": {
          "base_uri": "https://localhost:8080/",
          "height": 416
        },
        "outputId": "1c298221-0ac8-4767-ed83-2314a3af8f63"
      },
      "source": [
        "pop_talks['abbr'] = pop_talks['main_speaker'].apply(lambda x: x[:3])\n",
        "sns.set_style(\"whitegrid\")\n",
        "plt.figure(figsize=(10,6))\n",
        "sns.barplot(x='abbr', y='views', data=pop_talks)"
      ],
      "execution_count": 182,
      "outputs": [
        {
          "output_type": "execute_result",
          "data": {
            "text/plain": [
              "<matplotlib.axes._subplots.AxesSubplot at 0x7f1a4459bcf8>"
            ]
          },
          "metadata": {
            "tags": []
          },
          "execution_count": 182
        },
        {
          "output_type": "display_data",
          "data": {
            "image/png": "[encoded data removed]",
            "text/plain": [
              "<Figure size 720x432 with 1 Axes>"
            ]
          },
          "metadata": {
            "tags": []
          }
        }
      ]
    },
    {
      "cell_type": "code",
      "metadata": {
        "_cell_guid": "28810bac-718b-4e9b-85db-a98123f874b4",
        "_uuid": "74c2ca13f2a6f531a84f9f8e414cc31006d5381c",
        "id": "5_jkksl1U4DV",
        "colab_type": "code",
        "colab": {
          "base_uri": "https://localhost:8080/",
          "height": 307
        },
        "outputId": "6d56a224-692a-4508-c8b4-1e1427778cdc"
      },
      "source": [
        "sns.distplot(df['views'])"
      ],
      "execution_count": 183,
      "outputs": [
        {
          "output_type": "execute_result",
          "data": {
            "text/plain": [
              "<matplotlib.axes._subplots.AxesSubplot at 0x7f1a4456a550>"
            ]
          },
          "metadata": {
            "tags": []
          },
          "execution_count": 183
        },
        {
          "output_type": "display_data",
          "data": {
            "image/png": "[encoded data removed]",
            "text/plain": [
              "<Figure size 432x288 with 1 Axes>"
            ]
          },
          "metadata": {
            "tags": []
          }
        }
      ]
    },
    {
      "cell_type": "code",
      "metadata": {
        "_cell_guid": "ced2ba7f-f7da-41ef-99dc-0439d41bc838",
        "_uuid": "5a08ad81a950f1b379e670e253f284b8bec6efec",
        "id": "vDSlRm9AU4DX",
        "colab_type": "code",
        "colab": {
          "base_uri": "https://localhost:8080/",
          "height": 307
        },
        "outputId": "376c7f2d-c8c6-49d0-f97a-98fc75b69d74"
      },
      "source": [
        "sns.distplot(df[df['views'] < 0.4e7]['views'])"
      ],
      "execution_count": 184,
      "outputs": [
        {
          "output_type": "execute_result",
          "data": {
            "text/plain": [
              "<matplotlib.axes._subplots.AxesSubplot at 0x7f1a441a2dd8>"
            ]
          },
          "metadata": {
            "tags": []
          },
          "execution_count": 184
        },
        {
          "output_type": "display_data",
          "data": {
            "image/png": "[encoded data removed]",
            "text/plain": [
              "<Figure size 432x288 with 1 Axes>"
            ]
          },
          "metadata": {
            "tags": []
          }
        }
      ]
    },
    {
      "cell_type": "code",
      "metadata": {
        "_cell_guid": "9230e0a2-2d83-4bd7-be4b-d6d60dd16b00",
        "_uuid": "47439192928e183faf65db2366408021f9519f9b",
        "id": "0oRJ8SnsU4DZ",
        "colab_type": "code",
        "colab": {
          "base_uri": "https://localhost:8080/",
          "height": 170
        },
        "outputId": "4e7e50cb-78e6-447b-cfc7-e7bb7ceb3f89"
      },
      "source": [
        "df['views'].describe()"
      ],
      "execution_count": 185,
      "outputs": [
        {
          "output_type": "execute_result",
          "data": {
            "text/plain": [
              "count    2.550000e+03\n",
              "mean     1.698297e+06\n",
              "std      2.498479e+06\n",
              "min      5.044300e+04\n",
              "25%      7.557928e+05\n",
              "50%      1.124524e+06\n",
              "75%      1.700760e+06\n",
              "max      4.722711e+07\n",
              "Name: views, dtype: float64"
            ]
          },
          "metadata": {
            "tags": []
          },
          "execution_count": 185
        }
      ]
    },
    {
      "cell_type": "markdown",
      "metadata": {
        "_cell_guid": "24d86fce-22a4-40c9-a168-b8d8977460ca",
        "_uuid": "5318b6e91614b8e5bd932e05158bdc5c76a0cff1",
        "id": "BdsLaZ3PU4Dc",
        "colab_type": "text"
      },
      "source": [
        "The average number of views on TED Talks in **1.6 million.** and the median number of views is **1.12 million**. This suggests a very high average level of popularity of TED Talks. We also notice that the majority of talks have views less than **4 million**. We will consider this as the cutoff point when costructing box plots in the later sections."
      ]
    },
    {
      "cell_type": "code",
      "metadata": {
        "_cell_guid": "3ec67cb6-f8d1-4cb3-863c-81d652337dbb",
        "_uuid": "fd0877f2bd260d74e6c31f92abc43209b8e64245",
        "id": "fvlP70UdU4Dd",
        "colab_type": "code",
        "colab": {
          "base_uri": "https://localhost:8080/",
          "height": 170
        },
        "outputId": "b1f218ae-1643-41c3-8a2e-c7b26d94e59c"
      },
      "source": [
        "df['comments'].describe()"
      ],
      "execution_count": 186,
      "outputs": [
        {
          "output_type": "execute_result",
          "data": {
            "text/plain": [
              "count    2550.000000\n",
              "mean      191.562353\n",
              "std       282.315223\n",
              "min         2.000000\n",
              "25%        63.000000\n",
              "50%       118.000000\n",
              "75%       221.750000\n",
              "max      6404.000000\n",
              "Name: comments, dtype: float64"
            ]
          },
          "metadata": {
            "tags": []
          },
          "execution_count": 186
        }
      ]
    },
    {
      "cell_type": "markdown",
      "metadata": {
        "_cell_guid": "31886ab6-02c7-4c95-ab21-b81e60062457",
        "_uuid": "5a06b44403a91e62a68ee80c16a88c6ed0199cc9",
        "id": "BWwLAO2UU4Df",
        "colab_type": "text"
      },
      "source": [
        "### Observations\n",
        "\n",
        "* On average, there are **191.5 comments** on every TED Talk. Assuming the comments are constructive criticism, we can conclude that the TED Online Community is highly involved in discussions revolving TED Talks.\n",
        "* There is a **huge standard deviation** associated with the comments. In fact, it is even larger than the mean suggesting that the measures may be sensitive to outliers. We shall plot this to check the nature of the distribution.\n",
        "* The minimum number of comments on a talk is **2** and the maximum is **6404**. The **range is 6402.**. The minimum number, though, may be as a result of the talk being posted extremely recently."
      ]
    },
    {
      "cell_type": "code",
      "metadata": {
        "_cell_guid": "fdd043a6-a6b9-45cd-9c64-3718e4794566",
        "_uuid": "7f01b3e7d4556ba3b0661bfd31f535c43279c220",
        "id": "K_a7UsqFU4Dg",
        "colab_type": "code",
        "colab": {
          "base_uri": "https://localhost:8080/",
          "height": 0
        },
        "outputId": "54fc78a1-fc4b-4ce4-93c2-f2e468ffb82d"
      },
      "source": [
        "sns.distplot(df['comments'])"
      ],
      "execution_count": 187,
      "outputs": [
        {
          "output_type": "execute_result",
          "data": {
            "text/plain": [
              "<matplotlib.axes._subplots.AxesSubplot at 0x7f1a440d9fd0>"
            ]
          },
          "metadata": {
            "tags": []
          },
          "execution_count": 187
        },
        {
          "output_type": "display_data",
          "data": {
            "image/png": "[encoded data removed]",
            "text/plain": [
              "<Figure size 432x288 with 1 Axes>"
            ]
          },
          "metadata": {
            "tags": []
          }
        }
      ]
    },
    {
      "cell_type": "code",
      "metadata": {
        "_cell_guid": "2d3bcb15-8212-4a9c-9da3-cf1aee9fe1a6",
        "_uuid": "0b54930b5dbacff0790820a6ad58f8fb83c1a34b",
        "id": "AkNU94MTU4Di",
        "colab_type": "code",
        "colab": {
          "base_uri": "https://localhost:8080/",
          "height": 0
        },
        "outputId": "864818fa-3d06-45ce-f1b7-736881b5fdc1"
      },
      "source": [
        "sns.distplot(df[df['comments'] < 500]['comments'])"
      ],
      "execution_count": 188,
      "outputs": [
        {
          "output_type": "execute_result",
          "data": {
            "text/plain": [
              "<matplotlib.axes._subplots.AxesSubplot at 0x7f1a43ff4a58>"
            ]
          },
          "metadata": {
            "tags": []
          },
          "execution_count": 188
        },
        {
          "output_type": "display_data",
          "data": {
            "image/png": "[encoded data removed]",
            "text/plain": [
              "<Figure size 432x288 with 1 Axes>"
            ]
          },
          "metadata": {
            "tags": []
          }
        }
      ]
    },
    {
      "cell_type": "markdown",
      "metadata": {
        "_cell_guid": "fc913120-b891-475f-beb5-b9aff172e563",
        "_uuid": "22632daca529493283b2d03fe93130293c0c9d31",
        "id": "6WWaQxGbU4Dk",
        "colab_type": "text"
      },
      "source": [
        "From the plot above, we can see that the bulk of the talks have **fewer than 500 comments**. This clearly suggests that the mean obtained above has been heavily influenced by outliers. This is possible because the number of samples is **only 2550 talks**.\n",
        "\n",
        "Another question that I am interested in is if the number of views is correlated with the number of comments. We should think that this is the case as more popular videos tend to have more comments. Let us find out."
      ]
    },
    {
      "cell_type": "code",
      "metadata": {
        "_cell_guid": "24218858-4437-4e4a-983b-340e288e06f2",
        "_uuid": "dc1b5caaeb30b93f2cf4e62b7eb5243c585f4d68",
        "id": "JBG7b09QU4Dk",
        "colab_type": "code",
        "colab": {
          "base_uri": "https://localhost:8080/",
          "height": 0
        },
        "outputId": "9499b30e-b9da-4155-b5a4-967a90543dd1"
      },
      "source": [
        "sns.jointplot(x='views', y='comments', data=df)"
      ],
      "execution_count": 189,
      "outputs": [
        {
          "output_type": "execute_result",
          "data": {
            "text/plain": [
              "<seaborn.axisgrid.JointGrid at 0x7f1a43fa61d0>"
            ]
          },
          "metadata": {
            "tags": []
          },
          "execution_count": 189
        },
        {
          "output_type": "display_data",
          "data": {
            "image/png": "[encoded data removed]",
            "text/plain": [
              "<Figure size 432x432 with 3 Axes>"
            ]
          },
          "metadata": {
            "tags": []
          }
        }
      ]
    },
    {
      "cell_type": "code",
      "metadata": {
        "_cell_guid": "e68de1bf-b505-49b9-bf8e-2ec81d494000",
        "_uuid": "23d222af45fb48a0831b9bfb8025f320302d5d28",
        "id": "4kwpsNyMU4Dm",
        "colab_type": "code",
        "colab": {
          "base_uri": "https://localhost:8080/",
          "height": 0
        },
        "outputId": "dc6d5db3-3612-4223-9b7d-20ec15f24af7"
      },
      "source": [
        "df[['views', 'comments']].corr()"
      ],
      "execution_count": 190,
      "outputs": [
        {
          "output_type": "execute_result",
          "data": {
            "text/html": [
              "<div>\n",
              "<style scoped>\n",
              "    .dataframe tbody tr th:only-of-type {\n",
              "        vertical-align: middle;\n",
              "    }\n",
              "\n",
              "    .dataframe tbody tr th {\n",
              "        vertical-align: top;\n",
              "    }\n",
              "\n",
              "    .dataframe thead th {\n",
              "        text-align: right;\n",
              "    }\n",
              "</style>\n",
              "<table border=\"1\" class=\"dataframe\">\n",
              "  <thead>\n",
              "    <tr style=\"text-align: right;\">\n",
              "      <th></th>\n",
              "      <th>views</th>\n",
              "      <th>comments</th>\n",
              "    </tr>\n",
              "  </thead>\n",
              "  <tbody>\n",
              "    <tr>\n",
              "      <th>views</th>\n",
              "      <td>1.000000</td>\n",
              "      <td>0.530939</td>\n",
              "    </tr>\n",
              "    <tr>\n",
              "      <th>comments</th>\n",
              "      <td>0.530939</td>\n",
              "      <td>1.000000</td>\n",
              "    </tr>\n",
              "  </tbody>\n",
              "</table>\n",
              "</div>"
            ],
            "text/plain": [
              "             views  comments\n",
              "views     1.000000  0.530939\n",
              "comments  0.530939  1.000000"
            ]
          },
          "metadata": {
            "tags": []
          },
          "execution_count": 190
        }
      ]
    },
    {
      "cell_type": "markdown",
      "metadata": {
        "_cell_guid": "042e8513-4caf-430a-b949-94eebf66121f",
        "_uuid": "51d09645f351c36d1cfc2d1ddcec67db656de682",
        "id": "fuGfoYRyU4Do",
        "colab_type": "text"
      },
      "source": [
        "As the scatterplot and the correlation matrix show, the pearson coefficient is **slightly more than 0.5**. This suggests a **medium to strong correlation** between the two quantities. This result was pretty expected as mentioned above. Let us now check the number of views and comments on the 10 most commented TED Talks of all time."
      ]
    },
    {
      "cell_type": "code",
      "metadata": {
        "_cell_guid": "8f6a17de-2e15-4ce0-905b-63e9b4dabca2",
        "_uuid": "e786f3d3ce745351c3b6fd6280c8e431ce34e189",
        "id": "DAP7pxDSU4Dp",
        "colab_type": "code",
        "colab": {
          "base_uri": "https://localhost:8080/",
          "height": 0
        },
        "outputId": "94a4e519-a4e1-456e-c015-85cb52d59c35"
      },
      "source": [
        "df[['title', 'main_speaker','views', 'comments']].sort_values('comments', ascending=False).head(10)"
      ],
      "execution_count": 191,
      "outputs": [
        {
          "output_type": "execute_result",
          "data": {
            "text/html": [
              "<div>\n",
              "<style scoped>\n",
              "    .dataframe tbody tr th:only-of-type {\n",
              "        vertical-align: middle;\n",
              "    }\n",
              "\n",
              "    .dataframe tbody tr th {\n",
              "        vertical-align: top;\n",
              "    }\n",
              "\n",
              "    .dataframe thead th {\n",
              "        text-align: right;\n",
              "    }\n",
              "</style>\n",
              "<table border=\"1\" class=\"dataframe\">\n",
              "  <thead>\n",
              "    <tr style=\"text-align: right;\">\n",
              "      <th></th>\n",
              "      <th>title</th>\n",
              "      <th>main_speaker</th>\n",
              "      <th>views</th>\n",
              "      <th>comments</th>\n",
              "    </tr>\n",
              "  </thead>\n",
              "  <tbody>\n",
              "    <tr>\n",
              "      <th>96</th>\n",
              "      <td>Militant atheism</td>\n",
              "      <td>Richard Dawkins</td>\n",
              "      <td>4374792</td>\n",
              "      <td>6404</td>\n",
              "    </tr>\n",
              "    <tr>\n",
              "      <th>0</th>\n",
              "      <td>Do schools kill creativity?</td>\n",
              "      <td>Ken Robinson</td>\n",
              "      <td>47227110</td>\n",
              "      <td>4553</td>\n",
              "    </tr>\n",
              "    <tr>\n",
              "      <th>644</th>\n",
              "      <td>Science can answer moral questions</td>\n",
              "      <td>Sam Harris</td>\n",
              "      <td>3433437</td>\n",
              "      <td>3356</td>\n",
              "    </tr>\n",
              "    <tr>\n",
              "      <th>201</th>\n",
              "      <td>My stroke of insight</td>\n",
              "      <td>Jill Bolte Taylor</td>\n",
              "      <td>21190883</td>\n",
              "      <td>2877</td>\n",
              "    </tr>\n",
              "    <tr>\n",
              "      <th>1787</th>\n",
              "      <td>How do you explain consciousness?</td>\n",
              "      <td>David Chalmers</td>\n",
              "      <td>2162764</td>\n",
              "      <td>2673</td>\n",
              "    </tr>\n",
              "    <tr>\n",
              "      <th>954</th>\n",
              "      <td>Taking imagination seriously</td>\n",
              "      <td>Janet Echelman</td>\n",
              "      <td>1832930</td>\n",
              "      <td>2492</td>\n",
              "    </tr>\n",
              "    <tr>\n",
              "      <th>840</th>\n",
              "      <td>On reading the Koran</td>\n",
              "      <td>Lesley Hazleton</td>\n",
              "      <td>1847256</td>\n",
              "      <td>2374</td>\n",
              "    </tr>\n",
              "    <tr>\n",
              "      <th>1346</th>\n",
              "      <td>Your body language may shape who you are</td>\n",
              "      <td>Amy Cuddy</td>\n",
              "      <td>43155405</td>\n",
              "      <td>2290</td>\n",
              "    </tr>\n",
              "    <tr>\n",
              "      <th>661</th>\n",
              "      <td>The danger of science denial</td>\n",
              "      <td>Michael Specter</td>\n",
              "      <td>1838628</td>\n",
              "      <td>2272</td>\n",
              "    </tr>\n",
              "    <tr>\n",
              "      <th>677</th>\n",
              "      <td>How great leaders inspire action</td>\n",
              "      <td>Simon Sinek</td>\n",
              "      <td>34309432</td>\n",
              "      <td>1930</td>\n",
              "    </tr>\n",
              "  </tbody>\n",
              "</table>\n",
              "</div>"
            ],
            "text/plain": [
              "                                         title  ... comments\n",
              "96                            Militant atheism  ...     6404\n",
              "0                  Do schools kill creativity?  ...     4553\n",
              "644         Science can answer moral questions  ...     3356\n",
              "201                       My stroke of insight  ...     2877\n",
              "1787         How do you explain consciousness?  ...     2673\n",
              "954               Taking imagination seriously  ...     2492\n",
              "840                       On reading the Koran  ...     2374\n",
              "1346  Your body language may shape who you are  ...     2290\n",
              "661               The danger of science denial  ...     2272\n",
              "677           How great leaders inspire action  ...     1930\n",
              "\n",
              "[10 rows x 4 columns]"
            ]
          },
          "metadata": {
            "tags": []
          },
          "execution_count": 191
        }
      ]
    },
    {
      "cell_type": "markdown",
      "metadata": {
        "_cell_guid": "8d4935a1-8d68-461a-81e6-b38441f45268",
        "_uuid": "f6878d82f2576eda4dc8e213bc7962c5deaf0faf",
        "id": "LZHwZgsRU4Dr",
        "colab_type": "text"
      },
      "source": [
        "As can be seen above, Richard Dawkins' talk on **Militant Atheism'** generated the greatest amount of discussion and opinions despite having significantly lesser views than Ken Robinson's talk, which is second in the list. This raises some interesting questions.\n",
        "\n",
        "Which talks tend to attract the largest amount of discussion?\n",
        "\n",
        "To answer this question, we will define a new feature **discussion quotient** which is simply the ratio of the number of comments to the number of views. We will then check which talks have the largest discussion quotient."
      ]
    },
    {
      "cell_type": "code",
      "metadata": {
        "_cell_guid": "efdd3649-cc46-4662-8ef9-0bc633c87449",
        "_uuid": "eb6a6b7ecb8c224787c78f2b2caff28a86a42435",
        "id": "8MHZiVntU4Dr",
        "colab_type": "code",
        "colab": {}
      },
      "source": [
        "df['dis_quo'] = df['comments']/df['views']"
      ],
      "execution_count": 192,
      "outputs": []
    },
    {
      "cell_type": "code",
      "metadata": {
        "_cell_guid": "601648c4-38a8-4a97-b4cc-2ae0d66acd10",
        "_uuid": "4eefbda8f76f5d4edcc7bcb6661a688f9fdf5cb3",
        "id": "Y-owFuzDU4Dt",
        "colab_type": "code",
        "colab": {
          "base_uri": "https://localhost:8080/",
          "height": 0
        },
        "outputId": "786960a4-9b00-40f9-87a8-b943e5a19169"
      },
      "source": [
        "df[['title', 'main_speaker','views', 'comments', 'dis_quo', 'film_date']].sort_values('dis_quo', ascending=False).head(10)"
      ],
      "execution_count": 193,
      "outputs": [
        {
          "output_type": "execute_result",
          "data": {
            "text/html": [
              "<div>\n",
              "<style scoped>\n",
              "    .dataframe tbody tr th:only-of-type {\n",
              "        vertical-align: middle;\n",
              "    }\n",
              "\n",
              "    .dataframe tbody tr th {\n",
              "        vertical-align: top;\n",
              "    }\n",
              "\n",
              "    .dataframe thead th {\n",
              "        text-align: right;\n",
              "    }\n",
              "</style>\n",
              "<table border=\"1\" class=\"dataframe\">\n",
              "  <thead>\n",
              "    <tr style=\"text-align: right;\">\n",
              "      <th></th>\n",
              "      <th>title</th>\n",
              "      <th>main_speaker</th>\n",
              "      <th>views</th>\n",
              "      <th>comments</th>\n",
              "      <th>dis_quo</th>\n",
              "      <th>film_date</th>\n",
              "    </tr>\n",
              "  </thead>\n",
              "  <tbody>\n",
              "    <tr>\n",
              "      <th>744</th>\n",
              "      <td>The case for same-sex marriage</td>\n",
              "      <td>Diane J. Savino</td>\n",
              "      <td>292395</td>\n",
              "      <td>649</td>\n",
              "      <td>0.002220</td>\n",
              "      <td>02-12-2009</td>\n",
              "    </tr>\n",
              "    <tr>\n",
              "      <th>803</th>\n",
              "      <td>E-voting without fraud</td>\n",
              "      <td>David Bismark</td>\n",
              "      <td>543551</td>\n",
              "      <td>834</td>\n",
              "      <td>0.001534</td>\n",
              "      <td>14-07-2010</td>\n",
              "    </tr>\n",
              "    <tr>\n",
              "      <th>96</th>\n",
              "      <td>Militant atheism</td>\n",
              "      <td>Richard Dawkins</td>\n",
              "      <td>4374792</td>\n",
              "      <td>6404</td>\n",
              "      <td>0.001464</td>\n",
              "      <td>02-02-2002</td>\n",
              "    </tr>\n",
              "    <tr>\n",
              "      <th>694</th>\n",
              "      <td>Inside a school for suicide bombers</td>\n",
              "      <td>Sharmeen Obaid-Chinoy</td>\n",
              "      <td>1057238</td>\n",
              "      <td>1502</td>\n",
              "      <td>0.001421</td>\n",
              "      <td>10-02-2010</td>\n",
              "    </tr>\n",
              "    <tr>\n",
              "      <th>954</th>\n",
              "      <td>Taking imagination seriously</td>\n",
              "      <td>Janet Echelman</td>\n",
              "      <td>1832930</td>\n",
              "      <td>2492</td>\n",
              "      <td>0.001360</td>\n",
              "      <td>03-03-2011</td>\n",
              "    </tr>\n",
              "    <tr>\n",
              "      <th>840</th>\n",
              "      <td>On reading the Koran</td>\n",
              "      <td>Lesley Hazleton</td>\n",
              "      <td>1847256</td>\n",
              "      <td>2374</td>\n",
              "      <td>0.001285</td>\n",
              "      <td>10-10-2010</td>\n",
              "    </tr>\n",
              "    <tr>\n",
              "      <th>876</th>\n",
              "      <td>Curating humanity's heritage</td>\n",
              "      <td>Elizabeth Lindsey</td>\n",
              "      <td>439180</td>\n",
              "      <td>555</td>\n",
              "      <td>0.001264</td>\n",
              "      <td>08-12-2010</td>\n",
              "    </tr>\n",
              "    <tr>\n",
              "      <th>1787</th>\n",
              "      <td>How do you explain consciousness?</td>\n",
              "      <td>David Chalmers</td>\n",
              "      <td>2162764</td>\n",
              "      <td>2673</td>\n",
              "      <td>0.001236</td>\n",
              "      <td>18-03-2014</td>\n",
              "    </tr>\n",
              "    <tr>\n",
              "      <th>661</th>\n",
              "      <td>The danger of science denial</td>\n",
              "      <td>Michael Specter</td>\n",
              "      <td>1838628</td>\n",
              "      <td>2272</td>\n",
              "      <td>0.001236</td>\n",
              "      <td>11-02-2010</td>\n",
              "    </tr>\n",
              "    <tr>\n",
              "      <th>561</th>\n",
              "      <td>Dance to change the world</td>\n",
              "      <td>Mallika Sarabhai</td>\n",
              "      <td>481834</td>\n",
              "      <td>595</td>\n",
              "      <td>0.001235</td>\n",
              "      <td>04-11-2009</td>\n",
              "    </tr>\n",
              "  </tbody>\n",
              "</table>\n",
              "</div>"
            ],
            "text/plain": [
              "                                    title  ...   film_date\n",
              "744        The case for same-sex marriage  ...  02-12-2009\n",
              "803                E-voting without fraud  ...  14-07-2010\n",
              "96                       Militant atheism  ...  02-02-2002\n",
              "694   Inside a school for suicide bombers  ...  10-02-2010\n",
              "954          Taking imagination seriously  ...  03-03-2011\n",
              "840                  On reading the Koran  ...  10-10-2010\n",
              "876          Curating humanity's heritage  ...  08-12-2010\n",
              "1787    How do you explain consciousness?  ...  18-03-2014\n",
              "661          The danger of science denial  ...  11-02-2010\n",
              "561             Dance to change the world  ...  04-11-2009\n",
              "\n",
              "[10 rows x 6 columns]"
            ]
          },
          "metadata": {
            "tags": []
          },
          "execution_count": 193
        }
      ]
    },
    {
      "cell_type": "markdown",
      "metadata": {
        "_cell_guid": "e200b665-8d1a-4797-b7f1-90383dc3eb89",
        "_uuid": "d3c8257dd4a6f7f2b880ae068b2ca29d58381438",
        "id": "kw6JhDt0U4Dw",
        "colab_type": "text"
      },
      "source": [
        "This analysis has actually raised extremely interesting insights. Half of the talks in the top 10 are on the lines of **Faith and Religion**. I suspect science and religion is still a very hotly debated topic even in the 21st century. We shall come back to this hypothesis in a later section.\n",
        "\n",
        "The most discusses talk, though, is **The Case for Same Sex Marriage** (which has religious undertones). This is not that surprising considering the amount of debate the topic caused back in 2009 (the time the talk was filmed)."
      ]
    },
    {
      "cell_type": "markdown",
      "metadata": {
        "_cell_guid": "c441e205-5404-4b9b-b415-745c2c7fc9a0",
        "_uuid": "e5345df8eec83ec262a1e5e39782d090d84ee748",
        "id": "PE1qkrI9U4Dx",
        "colab_type": "text"
      },
      "source": [
        "## Analysing TED Talks by the month and the year\n",
        "\n",
        "TED (especially TEDx) Talks tend to occur all throughout the year. Is there a hot month as far as TED is concerned? In other words, how are the talks distributed throughout the months since its inception? Let us find out."
      ]
    },
    {
      "cell_type": "code",
      "metadata": {
        "_cell_guid": "f3d956ec-2550-448e-94aa-a47053e2d6ba",
        "_uuid": "8431b1b2140be73b08ce5bb1992496b60e606522",
        "id": "vzIZNR6CU4Dx",
        "colab_type": "code",
        "colab": {}
      },
      "source": [
        "df['month'] = df['film_date'].apply(lambda x: month_order[int(x.split('-')[1]) - 1])\n",
        "\n",
        "month_df = pd.DataFrame(df['month'].value_counts()).reset_index()\n",
        "month_df.columns = ['month', 'talks']"
      ],
      "execution_count": 194,
      "outputs": []
    },
    {
      "cell_type": "code",
      "metadata": {
        "_cell_guid": "36b09345-86ef-49ff-8397-69d55f2f13de",
        "_uuid": "a3e69e6eb7071c11f47d4b5d2a9a8d18f4f1fbda",
        "id": "cAToOR8jU4Dz",
        "colab_type": "code",
        "colab": {
          "base_uri": "https://localhost:8080/",
          "height": 296
        },
        "outputId": "cd7320f0-aaba-4eaf-bbf4-cb78c60a8903"
      },
      "source": [
        "sns.barplot(x='month', y='talks', data=month_df, order=month_order)"
      ],
      "execution_count": 195,
      "outputs": [
        {
          "output_type": "execute_result",
          "data": {
            "text/plain": [
              "<matplotlib.axes._subplots.AxesSubplot at 0x7f1a43d0c240>"
            ]
          },
          "metadata": {
            "tags": []
          },
          "execution_count": 195
        },
        {
          "output_type": "display_data",
          "data": {
            "image/png": "[encoded data removed]",
            "text/plain": [
              "<Figure size 432x288 with 1 Axes>"
            ]
          },
          "metadata": {
            "tags": []
          }
        }
      ]
    },
    {
      "cell_type": "markdown",
      "metadata": {
        "_cell_guid": "5ca7f88d-43a5-420b-9103-0b10918e40cd",
        "_uuid": "4fd6d105eedc9305727fe1fe5aa2074096dfc434",
        "id": "CCgeKJLfU4D1",
        "colab_type": "text"
      },
      "source": [
        "**February** is clearly the most popular month for TED Conferences whereas **August** and **January** are the least popular. February's popularity is largely due to the fact that the official TED Conferences are held in February. Let us check the distribution for TEDx talks only."
      ]
    },
    {
      "cell_type": "code",
      "metadata": {
        "_cell_guid": "e96b53d5-07f1-43ab-adcb-b3e93d0a2682",
        "_uuid": "093a90c878ffadb8fbab0ad0dad49f5b9ca1bb43",
        "id": "GbeS0KgKU4D2",
        "colab_type": "code",
        "colab": {}
      },
      "source": [
        "df_x = df[df['event'].str.contains('TEDx')]\n",
        "x_month_df = pd.DataFrame(df_x['month'].value_counts().reset_index())\n",
        "x_month_df.columns = ['month', 'talks']"
      ],
      "execution_count": 196,
      "outputs": []
    },
    {
      "cell_type": "code",
      "metadata": {
        "_cell_guid": "e56533d5-4512-4980-a77a-af7b8041e538",
        "_uuid": "6e4bf099144dcb2502069668890b79091fafcd62",
        "id": "OKfWpGvTU4D4",
        "colab_type": "code",
        "colab": {
          "base_uri": "https://localhost:8080/",
          "height": 296
        },
        "outputId": "5f0ec670-4167-4d6d-c307-86205ba055fc"
      },
      "source": [
        "sns.barplot(x='month', y='talks', data=x_month_df, order=month_order)"
      ],
      "execution_count": 197,
      "outputs": [
        {
          "output_type": "execute_result",
          "data": {
            "text/plain": [
              "<matplotlib.axes._subplots.AxesSubplot at 0x7f1a43cce0b8>"
            ]
          },
          "metadata": {
            "tags": []
          },
          "execution_count": 197
        },
        {
          "output_type": "display_data",
          "data": {
            "image/png": "[encoded data removed]",
            "text/plain": [
              "<Figure size 432x288 with 1 Axes>"
            ]
          },
          "metadata": {
            "tags": []
          }
        }
      ]
    },
    {
      "cell_type": "markdown",
      "metadata": {
        "_cell_guid": "eeea79c8-376d-4377-93bb-d87ba1b6a51b",
        "_uuid": "e4e1b66ce885554abc172a65451f58b682b749c6",
        "id": "LtKYZtePU4D6",
        "colab_type": "text"
      },
      "source": [
        "As far as TEDx talks are concerned, **November** is the most popular month. However, we cannot take this result at face value as very few of the TEDx talks are actually uploaded to the TED website and therefore, it is entirely possible that the sample in our dataset is not at all representative of all TEDx talks. A slightly more accurate statement would be that **the most popular TEDx talks take place the most in October and November.**\n",
        "\n",
        "The next question I'm interested in is the most popular days for conducting TED and TEDx conferences. The tools applied are very sensible to the procedure applied for months."
      ]
    },
    {
      "cell_type": "code",
      "metadata": {
        "_cell_guid": "d049ab98-6755-49ed-8672-03f4e35835ca",
        "_uuid": "7cd09259789ecd7bca1912643a814b6d4112080f",
        "id": "qjSm2ZWXU4D6",
        "colab_type": "code",
        "colab": {}
      },
      "source": [
        "def getday(x):\n",
        "    day, month, year = (int(i) for i in x.split('-'))    \n",
        "    answer = datetime.date(year, month, day).weekday()\n",
        "    return day_order[answer]"
      ],
      "execution_count": 198,
      "outputs": []
    },
    {
      "cell_type": "code",
      "metadata": {
        "_cell_guid": "c9137227-d614-4bdb-94bf-81ad3465a8b4",
        "_uuid": "22c2094a52a570d4573ec776086b52025d4cb2be",
        "id": "8PXUt89jU4D8",
        "colab_type": "code",
        "colab": {}
      },
      "source": [
        "df['day'] = df['film_date'].apply(getday)"
      ],
      "execution_count": 199,
      "outputs": []
    },
    {
      "cell_type": "code",
      "metadata": {
        "_cell_guid": "00eab94b-5f85-4ba8-a289-eb602a0100dc",
        "_uuid": "4267658377bdd206429db3cda93dfacb7df94a19",
        "id": "W2QXmEtgU4D-",
        "colab_type": "code",
        "colab": {}
      },
      "source": [
        "day_df = pd.DataFrame(df['day'].value_counts()).reset_index()\n",
        "day_df.columns = ['day', 'talks']"
      ],
      "execution_count": 200,
      "outputs": []
    },
    {
      "cell_type": "code",
      "metadata": {
        "_cell_guid": "40e4f8c6-a4e9-4f9f-a588-3d3e55b4d8ed",
        "_uuid": "2e6279e522077cfd7c933a3a5469973845f44e9e",
        "id": "CbWcJSIMU4EA",
        "colab_type": "code",
        "colab": {
          "base_uri": "https://localhost:8080/",
          "height": 296
        },
        "outputId": "ac486f6e-0882-443b-cb7c-4b8cfa5ddc38"
      },
      "source": [
        "sns.barplot(x='day', y='talks', data=day_df, order=day_order)"
      ],
      "execution_count": 201,
      "outputs": [
        {
          "output_type": "execute_result",
          "data": {
            "text/plain": [
              "<matplotlib.axes._subplots.AxesSubplot at 0x7f1a44280e48>"
            ]
          },
          "metadata": {
            "tags": []
          },
          "execution_count": 201
        },
        {
          "output_type": "display_data",
          "data": {
            "image/png": "[encoded data removed]",
            "text/plain": [
              "<Figure size 432x288 with 1 Axes>"
            ]
          },
          "metadata": {
            "tags": []
          }
        }
      ]
    },
    {
      "cell_type": "markdown",
      "metadata": {
        "_cell_guid": "9dd3211a-5aba-42b3-a300-806d3a012450",
        "_uuid": "f441bfad29bec4fb4e71f7bed0202cb8fa8b349f",
        "id": "J4V6nApIU4EC",
        "colab_type": "text"
      },
      "source": [
        "The distribution of days is almost a bell curve with **Wednesday and Thursday** being the most popular days and **Sunday** being the least popular. This is pretty interesting because I was of the opinion that most TED Conferences would happen sometime in the weekend."
      ]
    },
    {
      "cell_type": "markdown",
      "metadata": {
        "_cell_guid": "f24a6665-a268-4653-b76f-044a9df006a2",
        "_uuid": "306b462c382b347b3a383acd1aa748cb9d088e2b",
        "id": "bXpyNQEPU4ED",
        "colab_type": "text"
      },
      "source": [
        "Let us now visualize the number of TED talks through the years and check if our hunch that they have grown significantly is indeed true."
      ]
    },
    {
      "cell_type": "code",
      "metadata": {
        "_cell_guid": "f4de6b92-0603-46d2-b8b6-23ae7dac8bd0",
        "_uuid": "792fb6dd7d8dac36ff998850cd02babb9fa34d5d",
        "id": "Xn-QuZtxU4ED",
        "colab_type": "code",
        "colab": {}
      },
      "source": [
        "df['year'] = df['film_date'].apply(lambda x: x.split('-')[2])\n",
        "year_df = pd.DataFrame(df['year'].value_counts().reset_index())\n",
        "year_df.columns = ['year', 'talks']"
      ],
      "execution_count": 202,
      "outputs": []
    },
    {
      "cell_type": "code",
      "metadata": {
        "_cell_guid": "1049fde9-c721-4191-b226-474b45bd9038",
        "_uuid": "b2bdb6690fb4fe255bea0b223eb56c682ab12848",
        "id": "vZRELKTmU4EG",
        "colab_type": "code",
        "colab": {
          "base_uri": "https://localhost:8080/",
          "height": 351
        },
        "outputId": "bb35cf89-9c5a-430b-b984-ccc6e35fd56c"
      },
      "source": [
        "plt.figure(figsize=(18,5))\n",
        "sns.pointplot(x='year', y='talks', data=year_df)"
      ],
      "execution_count": 203,
      "outputs": [
        {
          "output_type": "execute_result",
          "data": {
            "text/plain": [
              "<matplotlib.axes._subplots.AxesSubplot at 0x7f1a440bf828>"
            ]
          },
          "metadata": {
            "tags": []
          },
          "execution_count": 203
        },
        {
          "output_type": "display_data",
          "data": {
            "image/png": "[encoded data removed]",
            "text/plain": [
              "<Figure size 1296x360 with 1 Axes>"
            ]
          },
          "metadata": {
            "tags": []
          }
        }
      ]
    },
    {
      "cell_type": "markdown",
      "metadata": {
        "_cell_guid": "ec0bafa6-6aa7-426f-ac23-b3067fd5f31c",
        "_uuid": "a010751153a7102bc157c2a94a80eb568dc4aa2a",
        "id": "VCW3dCEHU4EI",
        "colab_type": "text"
      },
      "source": [
        "### Obervations\n",
        "\n",
        "* As expected, the number of TED Talks have gradually increased over the years since its inception in 1984. \n",
        "* There was a **sharp increase** in the number if talks in **2009**. It might be interesting to know the reasons behind 2009 being the tipping point where the number of talks increased more than twofold.\n",
        "* The number of talks have been pretty much constant since 2009. \n",
        "\n",
        "Finally, to put it all together, let us construct a heat map that shows us the number of talks by month and year. This will give us a good summary of the distribution of talks."
      ]
    },
    {
      "cell_type": "code",
      "metadata": {
        "_cell_guid": "421a8221-9db2-4eb6-8f63-a80d9e816392",
        "_uuid": "6de951d54e74b4ccce292abdb25e09f19039618b",
        "id": "fmGraXljU4EI",
        "colab_type": "code",
        "colab": {}
      },
      "source": [
        "months = {'Jan': 1, 'Feb': 2, 'Mar': 3, 'Apr': 4, 'May': 5, 'Jun': 6, 'Jul': 7, 'Aug': 8, 'Sep': 9, 'Oct': 10, 'Nov': 11, 'Dec': 12}"
      ],
      "execution_count": 204,
      "outputs": []
    },
    {
      "cell_type": "code",
      "metadata": {
        "_cell_guid": "173e3b48-b179-4999-8442-ec00aee46396",
        "_uuid": "e4cac3ccc62f9fe3d61a3b95b55aa3d14aa668da",
        "id": "w9NVecNUU4EK",
        "colab_type": "code",
        "colab": {}
      },
      "source": [
        "hmap_df = df.copy()\n",
        "hmap_df['film_date'] = hmap_df['film_date'].apply(lambda x: month_order[int(x.split('-')[1]) - 1] + \" \" + str(x.split('-')[2]))\n",
        "hmap_df = pd.pivot_table(hmap_df[['film_date', 'title']], index='film_date', aggfunc='count').reset_index()\n",
        "hmap_df['month_num'] = hmap_df['film_date'].apply(lambda x: months[x.split()[0]])\n",
        "hmap_df['year'] = hmap_df['film_date'].apply(lambda x: x.split()[1])\n",
        "hmap_df = hmap_df.sort_values(['year', 'month_num'])\n",
        "hmap_df = hmap_df[['month_num', 'year', 'title']]\n",
        "hmap_df = hmap_df.pivot('month_num', 'year', 'title')\n",
        "hmap_df = hmap_df.fillna(0)"
      ],
      "execution_count": 205,
      "outputs": []
    },
    {
      "cell_type": "code",
      "metadata": {
        "_cell_guid": "4521993e-cc94-4a44-b998-c3fae9b46f25",
        "_uuid": "3ce216f89620feeebda2aa5283d28916553c974b",
        "id": "AysBCN6SU4EM",
        "colab_type": "code",
        "colab": {
          "base_uri": "https://localhost:8080/",
          "height": 533
        },
        "outputId": "41bf7449-2579-426e-8b18-37286c243dc4"
      },
      "source": [
        "f, ax = plt.subplots(figsize=(12, 8))\n",
        "sns.heatmap(hmap_df, annot=True, linewidths=.5, ax=ax, fmt='n', yticklabels=month_order)\n"
      ],
      "execution_count": 206,
      "outputs": [
        {
          "output_type": "execute_result",
          "data": {
            "text/plain": [
              "<matplotlib.axes._subplots.AxesSubplot at 0x7f1a468e6390>"
            ]
          },
          "metadata": {
            "tags": []
          },
          "execution_count": 206
        },
        {
          "output_type": "display_data",
          "data": {
            "image/png": "[encoded data removed]",
            "text/plain": [
              "<Figure size 864x576 with 2 Axes>"
            ]
          },
          "metadata": {
            "tags": []
          }
        }
      ]
    },
    {
      "cell_type": "markdown",
      "metadata": {
        "_cell_guid": "01b96986-6a27-4d75-9678-851be8314336",
        "_uuid": "9106fb93c7aa40e84bcb9eda16afa34ee6d3f783",
        "id": "wNf9bOtkU4EP",
        "colab_type": "text"
      },
      "source": [
        "## TED Speakers\n",
        "\n",
        "In this section, we will try and gain insight about all the amazing speakers who have managed to inspire millions of people through their talks on the TED Platform. The first question we shall ask in this section is who are the most popular TED Speakers. That is, which speakers have given the most number of TED Talks."
      ]
    },
    {
      "cell_type": "code",
      "metadata": {
        "_cell_guid": "d9516047-c287-4ce6-acbf-ebac9034f802",
        "_uuid": "38ebd9430f3002619d1f5f13f7643b88aad0b835",
        "id": "TTNQ-VNLU4EQ",
        "colab_type": "code",
        "colab": {
          "base_uri": "https://localhost:8080/",
          "height": 359
        },
        "outputId": "d41fd590-5aa6-403e-9211-4befbc0cdeaf"
      },
      "source": [
        "speaker_df = df.groupby('main_speaker').count().reset_index()[['main_speaker', 'comments']]\n",
        "speaker_df.columns = ['main_speaker', 'appearances']\n",
        "speaker_df = speaker_df.sort_values('appearances', ascending=False)\n",
        "speaker_df.head(10)"
      ],
      "execution_count": 207,
      "outputs": [
        {
          "output_type": "execute_result",
          "data": {
            "text/html": [
              "<div>\n",
              "<style scoped>\n",
              "    .dataframe tbody tr th:only-of-type {\n",
              "        vertical-align: middle;\n",
              "    }\n",
              "\n",
              "    .dataframe tbody tr th {\n",
              "        vertical-align: top;\n",
              "    }\n",
              "\n",
              "    .dataframe thead th {\n",
              "        text-align: right;\n",
              "    }\n",
              "</style>\n",
              "<table border=\"1\" class=\"dataframe\">\n",
              "  <thead>\n",
              "    <tr style=\"text-align: right;\">\n",
              "      <th></th>\n",
              "      <th>main_speaker</th>\n",
              "      <th>appearances</th>\n",
              "    </tr>\n",
              "  </thead>\n",
              "  <tbody>\n",
              "    <tr>\n",
              "      <th>770</th>\n",
              "      <td>Hans Rosling</td>\n",
              "      <td>9</td>\n",
              "    </tr>\n",
              "    <tr>\n",
              "      <th>1066</th>\n",
              "      <td>Juan Enriquez</td>\n",
              "      <td>7</td>\n",
              "    </tr>\n",
              "    <tr>\n",
              "      <th>1693</th>\n",
              "      <td>Rives</td>\n",
              "      <td>6</td>\n",
              "    </tr>\n",
              "    <tr>\n",
              "      <th>1278</th>\n",
              "      <td>Marco Tempest</td>\n",
              "      <td>6</td>\n",
              "    </tr>\n",
              "    <tr>\n",
              "      <th>397</th>\n",
              "      <td>Clay Shirky</td>\n",
              "      <td>5</td>\n",
              "    </tr>\n",
              "    <tr>\n",
              "      <th>1487</th>\n",
              "      <td>Nicholas Negroponte</td>\n",
              "      <td>5</td>\n",
              "    </tr>\n",
              "    <tr>\n",
              "      <th>1075</th>\n",
              "      <td>Julian Treasure</td>\n",
              "      <td>5</td>\n",
              "    </tr>\n",
              "    <tr>\n",
              "      <th>424</th>\n",
              "      <td>Dan Ariely</td>\n",
              "      <td>5</td>\n",
              "    </tr>\n",
              "    <tr>\n",
              "      <th>850</th>\n",
              "      <td>Jacqueline Novogratz</td>\n",
              "      <td>5</td>\n",
              "    </tr>\n",
              "    <tr>\n",
              "      <th>248</th>\n",
              "      <td>Bill Gates</td>\n",
              "      <td>5</td>\n",
              "    </tr>\n",
              "  </tbody>\n",
              "</table>\n",
              "</div>"
            ],
            "text/plain": [
              "              main_speaker  appearances\n",
              "770           Hans Rosling            9\n",
              "1066         Juan Enriquez            7\n",
              "1693                 Rives            6\n",
              "1278         Marco Tempest            6\n",
              "397            Clay Shirky            5\n",
              "1487   Nicholas Negroponte            5\n",
              "1075       Julian Treasure            5\n",
              "424             Dan Ariely            5\n",
              "850   Jacqueline Novogratz            5\n",
              "248             Bill Gates            5"
            ]
          },
          "metadata": {
            "tags": []
          },
          "execution_count": 207
        }
      ]
    },
    {
      "cell_type": "markdown",
      "metadata": {
        "_cell_guid": "05403371-c4a5-44a4-ac9a-da35b88c7151",
        "_uuid": "1518cf164d6b347f55597c60e4e328a9adf1db7c",
        "id": "jZRp_9jKU4ES",
        "colab_type": "text"
      },
      "source": [
        "**Hans Rosling**, the Swiss Health Professor is clearly the most popular TED Speaker, with more than **9 appearances** on the TED Forum. **Juan Enriquez** comes a close second with **7 appearances**. Rives and Marco Tempest have graced the TED platform **6 times**.\n",
        "\n",
        "Which occupation should you choose if you want to become a TED Speaker? Let us have a look what kind of people TED is most interested in inviting to its events."
      ]
    },
    {
      "cell_type": "code",
      "metadata": {
        "_cell_guid": "4f560d0a-77a7-4866-ad32-b14ef758e9f6",
        "_uuid": "58f86d00bd8f861c52de1423e7c27ab1a65633f7",
        "id": "5NSUpEBJU4ET",
        "colab_type": "code",
        "colab": {}
      },
      "source": [
        "occupation_df = df.groupby('speaker_occupation').count().reset_index()[['speaker_occupation', 'comments']]\n",
        "occupation_df.columns = ['occupation', 'appearances']\n",
        "occupation_df = occupation_df.sort_values('appearances', ascending=False)"
      ],
      "execution_count": 208,
      "outputs": []
    },
    {
      "cell_type": "code",
      "metadata": {
        "_cell_guid": "0093d872-62a7-4b14-863c-43d69ca4f1be",
        "_uuid": "7ff3d0ccc2bd7bd76c56aee5d91af866bcb001e6",
        "id": "x2JibbE2U4EW",
        "colab_type": "code",
        "colab": {
          "base_uri": "https://localhost:8080/",
          "height": 334
        },
        "outputId": "dcd277f9-a618-436a-9060-63a3f7000dfd"
      },
      "source": [
        "plt.figure(figsize=(15,5))\n",
        "sns.barplot(x='occupation', y='appearances', data=occupation_df.head(10))\n",
        "plt.show()"
      ],
      "execution_count": 209,
      "outputs": [
        {
          "output_type": "display_data",
          "data": {
            "image/png": "[encoded data removed]",
            "text/plain": [
              "<Figure size 1080x360 with 1 Axes>"
            ]
          },
          "metadata": {
            "tags": []
          }
        }
      ]
    },
    {
      "cell_type": "markdown",
      "metadata": {
        "_cell_guid": "1a8c9931-2f10-49cf-b837-cdeae4a3709b",
        "_uuid": "b29ef00107ba5df2916433cc544f83841056fcd8",
        "id": "d2fqJNoWU4EY",
        "colab_type": "text"
      },
      "source": [
        "### Observations\n",
        "\n",
        "* **Writers** are the most popular with more than 45 speakers identifying themselves as the aforementioned.\n",
        "* **Artists** and **Designers** come a distant second with around 35 speakers in each category.\n",
        "* This result must be taken with a pinch of salt as a considerable number of speakers identify themselves with multiple professions (for example, writer/entrepreneur). Performing an analysis taking this into consideraion is left as an exercise to the reader.\n",
        "\n",
        "Do some professions tend to attract a larger number of viewers? Do answer this question let us visualise the relationship between the top 10 most popular professions and the views thet garnered in the form of a box plot."
      ]
    },
    {
      "cell_type": "code",
      "metadata": {
        "_cell_guid": "17eb4b0b-495d-4840-a0cc-e8063867b8a5",
        "_uuid": "1dbe940a2b5f03e43e2b2cc405968f0c29147b42",
        "id": "Cat2nhP5U4EY",
        "colab_type": "code",
        "colab": {
          "base_uri": "https://localhost:8080/",
          "height": 509
        },
        "outputId": "c7e5aec0-7690-4690-9ee7-ff0bdd09688f"
      },
      "source": [
        "fig, ax = plt.subplots(nrows=1, ncols=1,figsize=(15, 8))\n",
        "sns.boxplot(x='speaker_occupation', y='views', data=df[df['speaker_occupation'].isin(occupation_df.head(10)['occupation'])], palette=\"muted\", ax =ax)\n",
        "ax.set_ylim([0, 0.4e7])\n",
        "plt.show()"
      ],
      "execution_count": 210,
      "outputs": [
        {
          "output_type": "display_data",
          "data": {
            "image/png": "[encoded data removed]",
            "text/plain": [
              "<Figure size 1080x576 with 1 Axes>"
            ]
          },
          "metadata": {
            "tags": []
          }
        }
      ]
    },
    {
      "cell_type": "markdown",
      "metadata": {
        "_cell_guid": "71ce8f4c-15c1-47b9-bb68-1841ea615e07",
        "_uuid": "6cfa40d1392a5c472c0132cdcd3d14eb4776a799",
        "id": "fGgCEW4vU4Eb",
        "colab_type": "text"
      },
      "source": [
        "On average, out of the top 10 most popular professions, **Psychologists** tend to garner the most views. **Writers** have the greatest range of views between the first and the third quartile.. \n",
        "\n",
        "Finally, let us check the number of talks which have had more than one speaker."
      ]
    },
    {
      "cell_type": "code",
      "metadata": {
        "_cell_guid": "871271cf-df5a-406c-82b9-da52e06dc2b3",
        "_uuid": "3d2b744e06efa68d2790a5014eb728bf6ca13143",
        "id": "lDloH8VWU4Eb",
        "colab_type": "code",
        "colab": {
          "base_uri": "https://localhost:8080/",
          "height": 119
        },
        "outputId": "eb5634c6-6ae2-4610-da1f-52fce7556681"
      },
      "source": [
        "df['num_speaker'].value_counts()"
      ],
      "execution_count": 211,
      "outputs": [
        {
          "output_type": "execute_result",
          "data": {
            "text/plain": [
              "1    2492\n",
              "2      49\n",
              "3       5\n",
              "4       3\n",
              "5       1\n",
              "Name: num_speaker, dtype: int64"
            ]
          },
          "metadata": {
            "tags": []
          },
          "execution_count": 211
        }
      ]
    },
    {
      "cell_type": "markdown",
      "metadata": {
        "_cell_guid": "4f23ee2d-fe67-49d9-ab43-9cd465ba06f7",
        "_uuid": "9235d33802fcd9ef7ead2bcbb37ad96392cc913a",
        "id": "RD99mhWFU4Ed",
        "colab_type": "text"
      },
      "source": [
        "Almost every talk has just one speaker. There are close to 50 talks where two people shared the stage. The maximum number of speakers to share a single stage was 5. I suspect this was a dance performance. Let's have a look."
      ]
    },
    {
      "cell_type": "code",
      "metadata": {
        "_cell_guid": "0bbb89ef-4945-4d0a-99d0-e7027ed0094f",
        "_uuid": "0a4ed669d4391301ec57e96c3924be978003be5d",
        "id": "2elhlfrHU4Ee",
        "colab_type": "code",
        "colab": {
          "base_uri": "https://localhost:8080/",
          "height": 80
        },
        "outputId": "68e79a38-2943-4032-de3d-5d14a2019e16"
      },
      "source": [
        "df[df['num_speaker'] == 5][['title', 'description', 'main_speaker', 'event']]"
      ],
      "execution_count": 212,
      "outputs": [
        {
          "output_type": "execute_result",
          "data": {
            "text/html": [
              "<div>\n",
              "<style scoped>\n",
              "    .dataframe tbody tr th:only-of-type {\n",
              "        vertical-align: middle;\n",
              "    }\n",
              "\n",
              "    .dataframe tbody tr th {\n",
              "        vertical-align: top;\n",
              "    }\n",
              "\n",
              "    .dataframe thead th {\n",
              "        text-align: right;\n",
              "    }\n",
              "</style>\n",
              "<table border=\"1\" class=\"dataframe\">\n",
              "  <thead>\n",
              "    <tr style=\"text-align: right;\">\n",
              "      <th></th>\n",
              "      <th>title</th>\n",
              "      <th>description</th>\n",
              "      <th>main_speaker</th>\n",
              "      <th>event</th>\n",
              "    </tr>\n",
              "  </thead>\n",
              "  <tbody>\n",
              "    <tr>\n",
              "      <th>2507</th>\n",
              "      <td>A dance to honor Mother Earth</td>\n",
              "      <td>Movement artists Jon Boogz and Lil Buck debut ...</td>\n",
              "      <td>Jon Boogz and Lil Buck</td>\n",
              "      <td>TED2017</td>\n",
              "    </tr>\n",
              "  </tbody>\n",
              "</table>\n",
              "</div>"
            ],
            "text/plain": [
              "                              title  ...    event\n",
              "2507  A dance to honor Mother Earth  ...  TED2017\n",
              "\n",
              "[1 rows x 4 columns]"
            ]
          },
          "metadata": {
            "tags": []
          },
          "execution_count": 212
        }
      ]
    },
    {
      "cell_type": "markdown",
      "metadata": {
        "_cell_guid": "368cd93e-a5a7-406e-9be8-46bf1c95868b",
        "_uuid": "7a941e90f5e5c18db5ea9b5f7aa09df5d42926bc",
        "id": "Rbq5penBU4Eg",
        "colab_type": "text"
      },
      "source": [
        "My hunch was correct. It is a talk titled **A dance to honor Mother Earth** by Jon Boogz and Lil Buck at the TED 2017 Conference."
      ]
    },
    {
      "cell_type": "markdown",
      "metadata": {
        "_cell_guid": "091c7738-f6eb-4ba3-b06f-492f50638147",
        "_uuid": "74ef8e1ca6efd11e4268e45576c7ba9b96c4912e",
        "id": "LVT7QbTGU4Eh",
        "colab_type": "text"
      },
      "source": [
        "## TED Events\n",
        "\n",
        "Which TED Events tend to hold the most number of TED.com upload worthy events? We will try to answer that question in this section."
      ]
    },
    {
      "cell_type": "code",
      "metadata": {
        "_cell_guid": "f0cf39d1-5483-4a06-897c-931bb8bcfa75",
        "_uuid": "8ee07e5d1472f5010fa662ed01fd890de1f921e4",
        "id": "egzXri-aU4Eh",
        "colab_type": "code",
        "colab": {
          "base_uri": "https://localhost:8080/",
          "height": 359
        },
        "outputId": "d6fe6fa9-c457-44b8-9365-ffb5e7f88e54"
      },
      "source": [
        "events_df = df[['title', 'event']].groupby('event').count().reset_index()\n",
        "events_df.columns = ['event', 'talks']\n",
        "events_df = events_df.sort_values('talks', ascending=False)\n",
        "events_df.head(10)"
      ],
      "execution_count": 213,
      "outputs": [
        {
          "output_type": "execute_result",
          "data": {
            "text/html": [
              "<div>\n",
              "<style scoped>\n",
              "    .dataframe tbody tr th:only-of-type {\n",
              "        vertical-align: middle;\n",
              "    }\n",
              "\n",
              "    .dataframe tbody tr th {\n",
              "        vertical-align: top;\n",
              "    }\n",
              "\n",
              "    .dataframe thead th {\n",
              "        text-align: right;\n",
              "    }\n",
              "</style>\n",
              "<table border=\"1\" class=\"dataframe\">\n",
              "  <thead>\n",
              "    <tr style=\"text-align: right;\">\n",
              "      <th></th>\n",
              "      <th>event</th>\n",
              "      <th>talks</th>\n",
              "    </tr>\n",
              "  </thead>\n",
              "  <tbody>\n",
              "    <tr>\n",
              "      <th>64</th>\n",
              "      <td>TED2014</td>\n",
              "      <td>84</td>\n",
              "    </tr>\n",
              "    <tr>\n",
              "      <th>59</th>\n",
              "      <td>TED2009</td>\n",
              "      <td>83</td>\n",
              "    </tr>\n",
              "    <tr>\n",
              "      <th>63</th>\n",
              "      <td>TED2013</td>\n",
              "      <td>77</td>\n",
              "    </tr>\n",
              "    <tr>\n",
              "      <th>66</th>\n",
              "      <td>TED2016</td>\n",
              "      <td>77</td>\n",
              "    </tr>\n",
              "    <tr>\n",
              "      <th>65</th>\n",
              "      <td>TED2015</td>\n",
              "      <td>75</td>\n",
              "    </tr>\n",
              "    <tr>\n",
              "      <th>99</th>\n",
              "      <td>TEDGlobal 2012</td>\n",
              "      <td>70</td>\n",
              "    </tr>\n",
              "    <tr>\n",
              "      <th>61</th>\n",
              "      <td>TED2011</td>\n",
              "      <td>70</td>\n",
              "    </tr>\n",
              "    <tr>\n",
              "      <th>60</th>\n",
              "      <td>TED2010</td>\n",
              "      <td>68</td>\n",
              "    </tr>\n",
              "    <tr>\n",
              "      <th>98</th>\n",
              "      <td>TEDGlobal 2011</td>\n",
              "      <td>68</td>\n",
              "    </tr>\n",
              "    <tr>\n",
              "      <th>57</th>\n",
              "      <td>TED2007</td>\n",
              "      <td>68</td>\n",
              "    </tr>\n",
              "  </tbody>\n",
              "</table>\n",
              "</div>"
            ],
            "text/plain": [
              "             event  talks\n",
              "64         TED2014     84\n",
              "59         TED2009     83\n",
              "63         TED2013     77\n",
              "66         TED2016     77\n",
              "65         TED2015     75\n",
              "99  TEDGlobal 2012     70\n",
              "61         TED2011     70\n",
              "60         TED2010     68\n",
              "98  TEDGlobal 2011     68\n",
              "57         TED2007     68"
            ]
          },
          "metadata": {
            "tags": []
          },
          "execution_count": 213
        }
      ]
    },
    {
      "cell_type": "markdown",
      "metadata": {
        "_cell_guid": "2ca28f8d-39d1-4dbc-b574-971ccd92d194",
        "_uuid": "7b27be1edd967116403447c3168a7a7c15225e4b",
        "id": "o8O7Gkp0U4Ei",
        "colab_type": "text"
      },
      "source": [
        "As expected, the official TED events held the major share of TED Talks published on the TED.com platform. **TED2014 had the most number of talks** followed by TED2009. There isn't too much insight to be gained from this. "
      ]
    },
    {
      "cell_type": "markdown",
      "metadata": {
        "_cell_guid": "a4d5c248-c976-4273-891e-12016fa6b509",
        "_uuid": "c6839cd0b6715bdd9687bf22e383fe535716243f",
        "id": "j1rgYCWyU4Ej",
        "colab_type": "text"
      },
      "source": [
        "## TED Languages\n",
        "\n",
        "One remarkable aspect of TED Talks is the sheer number of languages in which it is accessible. Let us perform some very basic data visualisation and descriptive statistics about languages at TED."
      ]
    },
    {
      "cell_type": "code",
      "metadata": {
        "_cell_guid": "8a16e7ad-87a0-4411-b7d6-0aed8ea62ead",
        "_uuid": "ec8eef52e071fa4868f83b04c416746b92ac969c",
        "id": "Dnr4Ke9rU4Ej",
        "colab_type": "code",
        "colab": {
          "base_uri": "https://localhost:8080/",
          "height": 170
        },
        "outputId": "3e4eeae5-c87a-4817-eca6-2ee073d6bdf8"
      },
      "source": [
        "df['languages'].describe()"
      ],
      "execution_count": 214,
      "outputs": [
        {
          "output_type": "execute_result",
          "data": {
            "text/plain": [
              "count    2550.000000\n",
              "mean       27.326275\n",
              "std         9.563452\n",
              "min         0.000000\n",
              "25%        23.000000\n",
              "50%        28.000000\n",
              "75%        33.000000\n",
              "max        72.000000\n",
              "Name: languages, dtype: float64"
            ]
          },
          "metadata": {
            "tags": []
          },
          "execution_count": 214
        }
      ]
    },
    {
      "cell_type": "markdown",
      "metadata": {
        "_cell_guid": "87ec36f1-eb55-4331-9043-3142157164eb",
        "_uuid": "cdf6661f305ecb8bf2b8da6ce5483b7ee5b394c2",
        "id": "87_uOelgU4El",
        "colab_type": "text"
      },
      "source": [
        "On average, a TED Talk is available in 27 different languages. The maximum number of languages a TED Talk is available in is a staggering 72. Let us check which talk this is."
      ]
    },
    {
      "cell_type": "code",
      "metadata": {
        "_cell_guid": "71db7de1-a317-44d8-831a-cff503300f65",
        "_uuid": "fb0d976f05a7fdd14e4b2d3b2b6c41e4878e1d77",
        "id": "6eLrKNt7U4El",
        "colab_type": "code",
        "colab": {
          "base_uri": "https://localhost:8080/",
          "height": 168
        },
        "outputId": "f398d1a3-1a87-475e-9934-6160fc86a528"
      },
      "source": [
        "df[df['languages'] == 72]"
      ],
      "execution_count": 215,
      "outputs": [
        {
          "output_type": "execute_result",
          "data": {
            "text/html": [
              "<div>\n",
              "<style scoped>\n",
              "    .dataframe tbody tr th:only-of-type {\n",
              "        vertical-align: middle;\n",
              "    }\n",
              "\n",
              "    .dataframe tbody tr th {\n",
              "        vertical-align: top;\n",
              "    }\n",
              "\n",
              "    .dataframe thead th {\n",
              "        text-align: right;\n",
              "    }\n",
              "</style>\n",
              "<table border=\"1\" class=\"dataframe\">\n",
              "  <thead>\n",
              "    <tr style=\"text-align: right;\">\n",
              "      <th></th>\n",
              "      <th>name</th>\n",
              "      <th>title</th>\n",
              "      <th>description</th>\n",
              "      <th>main_speaker</th>\n",
              "      <th>speaker_occupation</th>\n",
              "      <th>num_speaker</th>\n",
              "      <th>duration</th>\n",
              "      <th>event</th>\n",
              "      <th>film_date</th>\n",
              "      <th>published_date</th>\n",
              "      <th>comments</th>\n",
              "      <th>tags</th>\n",
              "      <th>languages</th>\n",
              "      <th>ratings</th>\n",
              "      <th>related_talks</th>\n",
              "      <th>url</th>\n",
              "      <th>views</th>\n",
              "      <th>dis_quo</th>\n",
              "      <th>month</th>\n",
              "      <th>day</th>\n",
              "      <th>year</th>\n",
              "    </tr>\n",
              "  </thead>\n",
              "  <tbody>\n",
              "    <tr>\n",
              "      <th>973</th>\n",
              "      <td>Matt Cutts: Try something new for 30 days</td>\n",
              "      <td>Try something new for 30 days</td>\n",
              "      <td>Is there something you've always meant to do, ...</td>\n",
              "      <td>Matt Cutts</td>\n",
              "      <td>Technologist</td>\n",
              "      <td>1</td>\n",
              "      <td>207</td>\n",
              "      <td>TED2011</td>\n",
              "      <td>03-03-2011</td>\n",
              "      <td>01-07-2011</td>\n",
              "      <td>736</td>\n",
              "      <td>['culture', 'success']</td>\n",
              "      <td>72</td>\n",
              "      <td>[{'id': 10, 'name': 'Inspiring', 'count': 6171...</td>\n",
              "      <td>[{'id': 947, 'hero': 'https://pe.tedcdn.com/im...</td>\n",
              "      <td>https://www.ted.com/talks/matt_cutts_try_somet...</td>\n",
              "      <td>8838874</td>\n",
              "      <td>0.000083</td>\n",
              "      <td>Mar</td>\n",
              "      <td>Thu</td>\n",
              "      <td>2011</td>\n",
              "    </tr>\n",
              "  </tbody>\n",
              "</table>\n",
              "</div>"
            ],
            "text/plain": [
              "                                          name  ...  year\n",
              "973  Matt Cutts: Try something new for 30 days  ...  2011\n",
              "\n",
              "[1 rows x 21 columns]"
            ]
          },
          "metadata": {
            "tags": []
          },
          "execution_count": 215
        }
      ]
    },
    {
      "cell_type": "markdown",
      "metadata": {
        "_cell_guid": "88100cb2-0582-45a1-9e8a-845e286e4553",
        "_uuid": "2f530c089523fcbbe0f12d23b861388297f3be0a",
        "id": "LUIuxG9XU4Eo",
        "colab_type": "text"
      },
      "source": [
        "The most translated TED Talk of all time is Matt Cutts' **Try Something New in 30 Days**. The talk does have a very universal theme of exploration. The sheer number of languages it's available in demands a little more inspection though as it has just over 8 million views, far fewer than the most popular TED Talks. \n",
        "\n",
        "Finally, let us check if there is a correlation between the number of views and the number of languages a talk is availbale in. We would think that this should be the case since the talk is more accessible to a larger number of people but as Matt Cutts' talk shows, it may not really be the case."
      ]
    },
    {
      "cell_type": "code",
      "metadata": {
        "_cell_guid": "715e4810-24b6-4f2f-a152-57d95cda729a",
        "_uuid": "812616aa3bb6333671269e6f89e8cf54c8bba054",
        "id": "tUpVepIJU4Eo",
        "colab_type": "code",
        "colab": {
          "base_uri": "https://localhost:8080/",
          "height": 441
        },
        "outputId": "19cb4866-6ac1-49b8-f21a-0a1309faacc2"
      },
      "source": [
        "sns.jointplot(x='languages', y='views', data=df)\n",
        "plt.show()"
      ],
      "execution_count": 216,
      "outputs": [
        {
          "output_type": "display_data",
          "data": {
            "image/png": "[encoded data removed]",
            "text/plain": [
              "<Figure size 432x432 with 3 Axes>"
            ]
          },
          "metadata": {
            "tags": []
          }
        }
      ]
    },
    {
      "cell_type": "markdown",
      "metadata": {
        "_cell_guid": "3891de04-7c35-40fb-a205-5ee7d64aeafe",
        "_uuid": "07417fbd210d112557e8eb1fe3023cce4e6a0a85",
        "id": "3QGgD3ZTU4Eq",
        "colab_type": "text"
      },
      "source": [
        "The Pearson coefficient is 0.38 suggesting a **medium correlation** between the aforementioned quantities. "
      ]
    },
    {
      "cell_type": "markdown",
      "metadata": {
        "_cell_guid": "9670ab3a-75fb-4088-9c5d-85a103b761b0",
        "_uuid": "928407019720009a0bb77f11ce450928e4c280eb",
        "id": "DIdSelvMU4Eq",
        "colab_type": "text"
      },
      "source": [
        "## TED Themes\n",
        "\n",
        "In this section, we will try to find out the most popular themes in the TED conferences. Although TED started out as a conference about technology, entertainment and design, it has since diversified into virtually every field of study and walk of life. It will be interesting to see if this conference with Silicon Valley origins has a bias towards certain topics.\n",
        "\n",
        "To answer this question, we need to wrangle our data in a way that it is suitable for analysis. More specifically, we need to split the related_tags list into separate rows."
      ]
    },
    {
      "cell_type": "code",
      "metadata": {
        "_cell_guid": "ec245688-84bd-45c5-8df6-e71e5a36ac18",
        "_uuid": "9b4d05d055300d62b7a04415d9b8ab773250d470",
        "id": "vaq6MiCTU4Er",
        "colab_type": "code",
        "colab": {}
      },
      "source": [
        "import ast\n",
        "df['tags'] = df['tags'].apply(lambda x: ast.literal_eval(x))"
      ],
      "execution_count": 217,
      "outputs": []
    },
    {
      "cell_type": "code",
      "metadata": {
        "_cell_guid": "a8f91efc-49f8-4a89-be47-9765c0c08f84",
        "_uuid": "6ef55a74db9213236f242d391f0156c1d7ce60d5",
        "id": "E3xy6L4IU4Eu",
        "colab_type": "code",
        "colab": {}
      },
      "source": [
        "s = df.apply(lambda x: pd.Series(x['tags']),axis=1).stack().reset_index(level=1, drop=True)\n",
        "s.name = 'theme'"
      ],
      "execution_count": 218,
      "outputs": []
    },
    {
      "cell_type": "code",
      "metadata": {
        "_cell_guid": "643440d7-d2cd-4f5e-a58e-7033051903ef",
        "_uuid": "7a8410c57f5f08777d2a0e053f775678c4434b1a",
        "id": "yjAOimGVU4Ev",
        "colab_type": "code",
        "colab": {
          "base_uri": "https://localhost:8080/",
          "height": 649
        },
        "outputId": "2fcac288-9a31-4130-d5f1-277c5e02cef1"
      },
      "source": [
        "theme_df = df.drop('tags', axis=1).join(s)\n",
        "theme_df.head()"
      ],
      "execution_count": 219,
      "outputs": [
        {
          "output_type": "execute_result",
          "data": {
            "text/html": [
              "<div>\n",
              "<style scoped>\n",
              "    .dataframe tbody tr th:only-of-type {\n",
              "        vertical-align: middle;\n",
              "    }\n",
              "\n",
              "    .dataframe tbody tr th {\n",
              "        vertical-align: top;\n",
              "    }\n",
              "\n",
              "    .dataframe thead th {\n",
              "        text-align: right;\n",
              "    }\n",
              "</style>\n",
              "<table border=\"1\" class=\"dataframe\">\n",
              "  <thead>\n",
              "    <tr style=\"text-align: right;\">\n",
              "      <th></th>\n",
              "      <th>name</th>\n",
              "      <th>title</th>\n",
              "      <th>description</th>\n",
              "      <th>main_speaker</th>\n",
              "      <th>speaker_occupation</th>\n",
              "      <th>num_speaker</th>\n",
              "      <th>duration</th>\n",
              "      <th>event</th>\n",
              "      <th>film_date</th>\n",
              "      <th>published_date</th>\n",
              "      <th>comments</th>\n",
              "      <th>languages</th>\n",
              "      <th>ratings</th>\n",
              "      <th>related_talks</th>\n",
              "      <th>url</th>\n",
              "      <th>views</th>\n",
              "      <th>dis_quo</th>\n",
              "      <th>month</th>\n",
              "      <th>day</th>\n",
              "      <th>year</th>\n",
              "      <th>theme</th>\n",
              "    </tr>\n",
              "  </thead>\n",
              "  <tbody>\n",
              "    <tr>\n",
              "      <th>0</th>\n",
              "      <td>Ken Robinson: Do schools kill creativity?</td>\n",
              "      <td>Do schools kill creativity?</td>\n",
              "      <td>Sir Ken Robinson makes an entertaining and pro...</td>\n",
              "      <td>Ken Robinson</td>\n",
              "      <td>Author/educator</td>\n",
              "      <td>1</td>\n",
              "      <td>1164</td>\n",
              "      <td>TED2006</td>\n",
              "      <td>25-02-2006</td>\n",
              "      <td>27-06-2006</td>\n",
              "      <td>4553</td>\n",
              "      <td>60</td>\n",
              "      <td>[{'id': 7, 'name': 'Funny', 'count': 19645}, {...</td>\n",
              "      <td>[{'id': 865, 'hero': 'https://pe.tedcdn.com/im...</td>\n",
              "      <td>https://www.ted.com/talks/ken_robinson_says_sc...</td>\n",
              "      <td>47227110</td>\n",
              "      <td>0.000096</td>\n",
              "      <td>Feb</td>\n",
              "      <td>Sat</td>\n",
              "      <td>2006</td>\n",
              "      <td>children</td>\n",
              "    </tr>\n",
              "    <tr>\n",
              "      <th>0</th>\n",
              "      <td>Ken Robinson: Do schools kill creativity?</td>\n",
              "      <td>Do schools kill creativity?</td>\n",
              "      <td>Sir Ken Robinson makes an entertaining and pro...</td>\n",
              "      <td>Ken Robinson</td>\n",
              "      <td>Author/educator</td>\n",
              "      <td>1</td>\n",
              "      <td>1164</td>\n",
              "      <td>TED2006</td>\n",
              "      <td>25-02-2006</td>\n",
              "      <td>27-06-2006</td>\n",
              "      <td>4553</td>\n",
              "      <td>60</td>\n",
              "      <td>[{'id': 7, 'name': 'Funny', 'count': 19645}, {...</td>\n",
              "      <td>[{'id': 865, 'hero': 'https://pe.tedcdn.com/im...</td>\n",
              "      <td>https://www.ted.com/talks/ken_robinson_says_sc...</td>\n",
              "      <td>47227110</td>\n",
              "      <td>0.000096</td>\n",
              "      <td>Feb</td>\n",
              "      <td>Sat</td>\n",
              "      <td>2006</td>\n",
              "      <td>creativity</td>\n",
              "    </tr>\n",
              "    <tr>\n",
              "      <th>0</th>\n",
              "      <td>Ken Robinson: Do schools kill creativity?</td>\n",
              "      <td>Do schools kill creativity?</td>\n",
              "      <td>Sir Ken Robinson makes an entertaining and pro...</td>\n",
              "      <td>Ken Robinson</td>\n",
              "      <td>Author/educator</td>\n",
              "      <td>1</td>\n",
              "      <td>1164</td>\n",
              "      <td>TED2006</td>\n",
              "      <td>25-02-2006</td>\n",
              "      <td>27-06-2006</td>\n",
              "      <td>4553</td>\n",
              "      <td>60</td>\n",
              "      <td>[{'id': 7, 'name': 'Funny', 'count': 19645}, {...</td>\n",
              "      <td>[{'id': 865, 'hero': 'https://pe.tedcdn.com/im...</td>\n",
              "      <td>https://www.ted.com/talks/ken_robinson_says_sc...</td>\n",
              "      <td>47227110</td>\n",
              "      <td>0.000096</td>\n",
              "      <td>Feb</td>\n",
              "      <td>Sat</td>\n",
              "      <td>2006</td>\n",
              "      <td>culture</td>\n",
              "    </tr>\n",
              "    <tr>\n",
              "      <th>0</th>\n",
              "      <td>Ken Robinson: Do schools kill creativity?</td>\n",
              "      <td>Do schools kill creativity?</td>\n",
              "      <td>Sir Ken Robinson makes an entertaining and pro...</td>\n",
              "      <td>Ken Robinson</td>\n",
              "      <td>Author/educator</td>\n",
              "      <td>1</td>\n",
              "      <td>1164</td>\n",
              "      <td>TED2006</td>\n",
              "      <td>25-02-2006</td>\n",
              "      <td>27-06-2006</td>\n",
              "      <td>4553</td>\n",
              "      <td>60</td>\n",
              "      <td>[{'id': 7, 'name': 'Funny', 'count': 19645}, {...</td>\n",
              "      <td>[{'id': 865, 'hero': 'https://pe.tedcdn.com/im...</td>\n",
              "      <td>https://www.ted.com/talks/ken_robinson_says_sc...</td>\n",
              "      <td>47227110</td>\n",
              "      <td>0.000096</td>\n",
              "      <td>Feb</td>\n",
              "      <td>Sat</td>\n",
              "      <td>2006</td>\n",
              "      <td>dance</td>\n",
              "    </tr>\n",
              "    <tr>\n",
              "      <th>0</th>\n",
              "      <td>Ken Robinson: Do schools kill creativity?</td>\n",
              "      <td>Do schools kill creativity?</td>\n",
              "      <td>Sir Ken Robinson makes an entertaining and pro...</td>\n",
              "      <td>Ken Robinson</td>\n",
              "      <td>Author/educator</td>\n",
              "      <td>1</td>\n",
              "      <td>1164</td>\n",
              "      <td>TED2006</td>\n",
              "      <td>25-02-2006</td>\n",
              "      <td>27-06-2006</td>\n",
              "      <td>4553</td>\n",
              "      <td>60</td>\n",
              "      <td>[{'id': 7, 'name': 'Funny', 'count': 19645}, {...</td>\n",
              "      <td>[{'id': 865, 'hero': 'https://pe.tedcdn.com/im...</td>\n",
              "      <td>https://www.ted.com/talks/ken_robinson_says_sc...</td>\n",
              "      <td>47227110</td>\n",
              "      <td>0.000096</td>\n",
              "      <td>Feb</td>\n",
              "      <td>Sat</td>\n",
              "      <td>2006</td>\n",
              "      <td>education</td>\n",
              "    </tr>\n",
              "  </tbody>\n",
              "</table>\n",
              "</div>"
            ],
            "text/plain": [
              "                                        name  ...       theme\n",
              "0  Ken Robinson: Do schools kill creativity?  ...    children\n",
              "0  Ken Robinson: Do schools kill creativity?  ...  creativity\n",
              "0  Ken Robinson: Do schools kill creativity?  ...     culture\n",
              "0  Ken Robinson: Do schools kill creativity?  ...       dance\n",
              "0  Ken Robinson: Do schools kill creativity?  ...   education\n",
              "\n",
              "[5 rows x 21 columns]"
            ]
          },
          "metadata": {
            "tags": []
          },
          "execution_count": 219
        }
      ]
    },
    {
      "cell_type": "code",
      "metadata": {
        "_cell_guid": "e892ec67-66ba-452e-b161-356963c82932",
        "_uuid": "9957b6cade2f72461915083817c54233c2e7a48a",
        "id": "tE3Dg5iwU4Ey",
        "colab_type": "code",
        "colab": {
          "base_uri": "https://localhost:8080/",
          "height": 34
        },
        "outputId": "61f3c366-ce0d-459d-b5bd-ec097bd1f7f6"
      },
      "source": [
        "len(theme_df['theme'].value_counts())"
      ],
      "execution_count": 220,
      "outputs": [
        {
          "output_type": "execute_result",
          "data": {
            "text/plain": [
              "416"
            ]
          },
          "metadata": {
            "tags": []
          },
          "execution_count": 220
        }
      ]
    },
    {
      "cell_type": "markdown",
      "metadata": {
        "_cell_guid": "e124ddc2-e8f9-4548-985e-cf429c0c1ca2",
        "_uuid": "aa7d954c8ebf3eb8aba81d2fa2c7349909a842ea",
        "id": "kz7RVkTtU4E0",
        "colab_type": "text"
      },
      "source": [
        "TED defines a staggering **416 different categories** for its talks. Let us now check the most popular themes."
      ]
    },
    {
      "cell_type": "code",
      "metadata": {
        "_cell_guid": "454ff4e8-7a8d-44ff-b4fd-4045e6f4957d",
        "_uuid": "85eb5f4a67c9fb853cb26d42343227ef351139f6",
        "id": "XZnvQ3HQU4E1",
        "colab_type": "code",
        "colab": {
          "base_uri": "https://localhost:8080/",
          "height": 359
        },
        "outputId": "a023310d-76b7-4971-c633-20a2152188fe"
      },
      "source": [
        "pop_themes = pd.DataFrame(theme_df['theme'].value_counts()).reset_index()\n",
        "pop_themes.columns = ['theme', 'talks']\n",
        "pop_themes.head(10)"
      ],
      "execution_count": 221,
      "outputs": [
        {
          "output_type": "execute_result",
          "data": {
            "text/html": [
              "<div>\n",
              "<style scoped>\n",
              "    .dataframe tbody tr th:only-of-type {\n",
              "        vertical-align: middle;\n",
              "    }\n",
              "\n",
              "    .dataframe tbody tr th {\n",
              "        vertical-align: top;\n",
              "    }\n",
              "\n",
              "    .dataframe thead th {\n",
              "        text-align: right;\n",
              "    }\n",
              "</style>\n",
              "<table border=\"1\" class=\"dataframe\">\n",
              "  <thead>\n",
              "    <tr style=\"text-align: right;\">\n",
              "      <th></th>\n",
              "      <th>theme</th>\n",
              "      <th>talks</th>\n",
              "    </tr>\n",
              "  </thead>\n",
              "  <tbody>\n",
              "    <tr>\n",
              "      <th>0</th>\n",
              "      <td>technology</td>\n",
              "      <td>727</td>\n",
              "    </tr>\n",
              "    <tr>\n",
              "      <th>1</th>\n",
              "      <td>science</td>\n",
              "      <td>567</td>\n",
              "    </tr>\n",
              "    <tr>\n",
              "      <th>2</th>\n",
              "      <td>global issues</td>\n",
              "      <td>501</td>\n",
              "    </tr>\n",
              "    <tr>\n",
              "      <th>3</th>\n",
              "      <td>culture</td>\n",
              "      <td>486</td>\n",
              "    </tr>\n",
              "    <tr>\n",
              "      <th>4</th>\n",
              "      <td>TEDx</td>\n",
              "      <td>450</td>\n",
              "    </tr>\n",
              "    <tr>\n",
              "      <th>5</th>\n",
              "      <td>design</td>\n",
              "      <td>418</td>\n",
              "    </tr>\n",
              "    <tr>\n",
              "      <th>6</th>\n",
              "      <td>business</td>\n",
              "      <td>348</td>\n",
              "    </tr>\n",
              "    <tr>\n",
              "      <th>7</th>\n",
              "      <td>entertainment</td>\n",
              "      <td>299</td>\n",
              "    </tr>\n",
              "    <tr>\n",
              "      <th>8</th>\n",
              "      <td>health</td>\n",
              "      <td>236</td>\n",
              "    </tr>\n",
              "    <tr>\n",
              "      <th>9</th>\n",
              "      <td>innovation</td>\n",
              "      <td>229</td>\n",
              "    </tr>\n",
              "  </tbody>\n",
              "</table>\n",
              "</div>"
            ],
            "text/plain": [
              "           theme  talks\n",
              "0     technology    727\n",
              "1        science    567\n",
              "2  global issues    501\n",
              "3        culture    486\n",
              "4           TEDx    450\n",
              "5         design    418\n",
              "6       business    348\n",
              "7  entertainment    299\n",
              "8         health    236\n",
              "9     innovation    229"
            ]
          },
          "metadata": {
            "tags": []
          },
          "execution_count": 221
        }
      ]
    },
    {
      "cell_type": "code",
      "metadata": {
        "_cell_guid": "fd5b0c4a-cad6-4dae-833a-97d6a311cd54",
        "_uuid": "9874433db3cc81fcc4ef94371e26bcc29b2f18f6",
        "id": "P_uca9m_U4E3",
        "colab_type": "code",
        "colab": {
          "base_uri": "https://localhost:8080/",
          "height": 334
        },
        "outputId": "ad396857-a5aa-40ab-842c-fc4bc195166e"
      },
      "source": [
        "plt.figure(figsize=(15,5))\n",
        "sns.barplot(x='theme', y='talks', data=pop_themes.head(10))\n",
        "plt.show()"
      ],
      "execution_count": 222,
      "outputs": [
        {
          "output_type": "display_data",
          "data": {
            "image/png": "[encoded data removed]",
            "text/plain": [
              "<Figure size 1080x360 with 1 Axes>"
            ]
          },
          "metadata": {
            "tags": []
          }
        }
      ]
    },
    {
      "cell_type": "markdown",
      "metadata": {
        "_cell_guid": "bb70ab7a-0871-49f8-8940-359a2ae2e08d",
        "_uuid": "9a45c2efda8bcaf35beee0c58f8e74d2894f315f",
        "id": "ptwUWsoLU4E4",
        "colab_type": "text"
      },
      "source": [
        "As may have been expected, **Technology** is the most popular topic for talks. The other two original factions, Design and Entertainment, also make it to the list of top 10 themes. **Science** and **Global Issues** are the second and the third most popular themes respectively.\n",
        "\n",
        "The next question I want to answer is the trends in the share of topics of TED Talks across the world. Has the demand for Technology talks increased? Do certain years have a disproportionate share of talks related to global issues? Let's find out! \n",
        "\n",
        "We will only be considering the top 7 themes, excluding TEDx and talks after 2009, the year when the number of TED Talks really peaked."
      ]
    },
    {
      "cell_type": "code",
      "metadata": {
        "_cell_guid": "01790a52-42aa-4ae1-9e5f-28352b985151",
        "_uuid": "3bed007e7b84f115b428dda4705ee52ccbcc7e0f",
        "id": "scvhRTFfU4E5",
        "colab_type": "code",
        "colab": {
          "base_uri": "https://localhost:8080/",
          "height": 119
        },
        "outputId": "98bfd746-2362-4b5a-b6af-6fe8da5f6641"
      },
      "source": [
        "pop_theme_talks = theme_df[(theme_df['theme'].isin(pop_themes.head(8)['theme'])) & (theme_df['theme'] != 'TEDx')]\n",
        "pop_theme_talks['year'] = pop_theme_talks['year'].astype('int')\n",
        "pop_theme_talks = pop_theme_talks[pop_theme_talks['year'] > 2008]"
      ],
      "execution_count": 223,
      "outputs": [
        {
          "output_type": "stream",
          "text": [
            "/usr/local/lib/python3.6/dist-packages/ipykernel_launcher.py:2: SettingWithCopyWarning: \n",
            "A value is trying to be set on a copy of a slice from a DataFrame.\n",
            "Try using .loc[row_indexer,col_indexer] = value instead\n",
            "\n",
            "See the caveats in the documentation: https://pandas.pydata.org/pandas-docs/stable/user_guide/indexing.html#returning-a-view-versus-a-copy\n",
            "  \n"
          ],
          "name": "stderr"
        }
      ]
    },
    {
      "cell_type": "code",
      "metadata": {
        "_cell_guid": "7fd1a122-456e-4d0a-9885-ce7fd920c1b3",
        "_uuid": "13ab9a4f61c8cc03b7d5e2bb9ecf3e3a9071ae9a",
        "id": "GLQ52Je9U4E7",
        "colab_type": "code",
        "colab": {
          "base_uri": "https://localhost:8080/",
          "height": 512
        },
        "outputId": "f1505588-1f57-4587-a993-d2a9be072df0"
      },
      "source": [
        "themes = list(pop_themes.head(8)['theme'])\n",
        "themes.remove('TEDx')\n",
        "ctab = pd.crosstab([pop_theme_talks['year']], pop_theme_talks['theme']).apply(lambda x: x/x.sum(), axis=1)\n",
        "ctab[themes].plot(kind='bar', stacked=True, colormap='rainbow', figsize=(12,8)).legend(loc='center left', bbox_to_anchor=(1, 0.5))\n",
        "plt.show()"
      ],
      "execution_count": 224,
      "outputs": [
        {
          "output_type": "display_data",
          "data": {
            "image/png": "[encoded data removed]",
            "text/plain": [
              "<Figure size 864x576 with 1 Axes>"
            ]
          },
          "metadata": {
            "tags": []
          }
        }
      ]
    },
    {
      "cell_type": "code",
      "metadata": {
        "_cell_guid": "11e14789-e581-4273-bb8c-3a7504823a6d",
        "_uuid": "1d7a6d2a58f9ccdf3d35fb4c2186046bc1403597",
        "id": "r6BcRgNYU4E8",
        "colab_type": "code",
        "colab": {
          "base_uri": "https://localhost:8080/",
          "height": 497
        },
        "outputId": "eea4a814-9639-400b-fc5f-0d42330a0773"
      },
      "source": [
        "ctab[themes].plot(kind='line', stacked=False, colormap='rainbow', figsize=(12,8)).legend(loc='center left', bbox_to_anchor=(1, 0.5))\n",
        "plt.show()"
      ],
      "execution_count": 225,
      "outputs": [
        {
          "output_type": "display_data",
          "data": {
            "image/png": "[encoded data removed]",
            "text/plain": [
              "<Figure size 864x576 with 1 Axes>"
            ]
          },
          "metadata": {
            "tags": []
          }
        }
      ]
    },
    {
      "cell_type": "markdown",
      "metadata": {
        "_cell_guid": "2ee8e8e4-9ab4-411e-a36f-4fe319540ba4",
        "_uuid": "50b21e4762fa99caf1ff6b713c88b24798c78580",
        "id": "Z390AUMdU4E-",
        "colab_type": "text"
      },
      "source": [
        "The proportion of technology talks has steadily increased over the years with a slight dip in 2010. This is understandable considering the boom of technologies such as blockchain, deep learning and augmented reality capturing people's imagination.\n",
        "\n",
        "Talks on culture have witnessed a dip, decreasing steadily starting 2013. The share of culture talks has been the least in 2017.  Entertainment talks also seem to have witnessed a slight decline in popularity since 2009.\n",
        "\n",
        "Like with the speaker occupations, let us investigate if certain topics tend to garner more views than certain other topics. We will be doing this analysis for the top ten categories that we discovered in an earlier cell. As with the speaker occupations, the box plot will be used to deduce this relation."
      ]
    },
    {
      "cell_type": "code",
      "metadata": {
        "_cell_guid": "634d20ea-2fc3-4d60-b81f-5dd99fbc9831",
        "_uuid": "a95e3bcaa73ec0d1ad7ffa964a3115b3f135e27c",
        "id": "zU8uc_p7U4E_",
        "colab_type": "code",
        "colab": {
          "base_uri": "https://localhost:8080/",
          "height": 525
        },
        "outputId": "164c3edb-351c-47bd-ac89-b1881d9a686b"
      },
      "source": [
        "pop_theme_talks = theme_df[theme_df['theme'].isin(pop_themes.head(10)['theme'])]\n",
        "fig, ax = plt.subplots(nrows=1, ncols=1,figsize=(15, 8))\n",
        "sns.boxplot(x='theme', y='views', data=pop_theme_talks, palette=\"muted\", ax =ax)\n",
        "ax.set_ylim([0, 0.4e7])"
      ],
      "execution_count": 226,
      "outputs": [
        {
          "output_type": "execute_result",
          "data": {
            "text/plain": [
              "(0.0, 4000000.0)"
            ]
          },
          "metadata": {
            "tags": []
          },
          "execution_count": 226
        },
        {
          "output_type": "display_data",
          "data": {
            "image/png": "[encoded data removed]",
            "text/plain": [
              "<Figure size 1080x576 with 1 Axes>"
            ]
          },
          "metadata": {
            "tags": []
          }
        }
      ]
    },
    {
      "cell_type": "markdown",
      "metadata": {
        "_cell_guid": "9adc7d68-a00d-483a-9223-1197bdf72bda",
        "_uuid": "c4751faa732044e800f12ee5db252ccc25583b40",
        "id": "UQWsyav3U4FA",
        "colab_type": "text"
      },
      "source": [
        "Although culture has lost its share in the number of TED Talks over the years, they garner the highest median number of views."
      ]
    },
    {
      "cell_type": "markdown",
      "metadata": {
        "_cell_guid": "435ca6bd-f358-4104-8e83-c9e33ef11d45",
        "_uuid": "a3d268a3a3d02d1f30bd4089afd4ea606630b50c",
        "id": "T7iCpZjZU4FA",
        "colab_type": "text"
      },
      "source": [
        "## Talk Duration and Word Counts\n",
        "\n",
        "In this section, we will perform analysis on the length of TED Talks. TED is famous for imposing a very strict time limit of 18 minutes. Although this is the suggested limit, there have been talks as short as 2 minutes and some have stretched to as long as 24 minutes. Let us get an idea of the distribution of TED Talk durations."
      ]
    },
    {
      "cell_type": "code",
      "metadata": {
        "_cell_guid": "91947a01-e57a-497a-880b-0e50b77efa1d",
        "_uuid": "106f2a17b77a153892b87788ce7b69a490a7ae18",
        "id": "5s-giTaMU4FB",
        "colab_type": "code",
        "colab": {
          "base_uri": "https://localhost:8080/",
          "height": 170
        },
        "outputId": "cd3f4088-9d8c-427f-a0fc-da37f223f757"
      },
      "source": [
        "#Convert to minutes\n",
        "df['duration'] = df['duration']/60\n",
        "df['duration'].describe()"
      ],
      "execution_count": 227,
      "outputs": [
        {
          "output_type": "execute_result",
          "data": {
            "text/plain": [
              "count    2550.000000\n",
              "mean       13.775170\n",
              "std         6.233486\n",
              "min         2.250000\n",
              "25%         9.616667\n",
              "50%        14.133333\n",
              "75%        17.445833\n",
              "max        87.600000\n",
              "Name: duration, dtype: float64"
            ]
          },
          "metadata": {
            "tags": []
          },
          "execution_count": 227
        }
      ]
    },
    {
      "cell_type": "markdown",
      "metadata": {
        "_cell_guid": "a33774b9-f893-4558-8ccb-ccc4b1d7370a",
        "_uuid": "05991c1e04146fe9e65f25965a9f021141f73886",
        "id": "3OqlNnaWU4FC",
        "colab_type": "text"
      },
      "source": [
        "TED Talks, on average are **13.7 minutes long**. I find this statistic surprising because TED Talks are often synonymous with 18 minutes and the average is a good 3 minutes shorter than that.\n",
        "\n",
        "The shortest TED Talk on record is **2.25 minutes** long whereas the longest talk is **87.6 minutes** long. I'm pretty sure the longest talk was not actually a TED Talk. Let us look at both the shortest and the longest talk."
      ]
    },
    {
      "cell_type": "code",
      "metadata": {
        "_cell_guid": "bb9d19ce-bc52-4eda-9237-f7ed2a29db86",
        "_uuid": "2caa673c7799e5779b740ad0ed82d4273fdcf880",
        "id": "i0SKASKfU4FC",
        "colab_type": "code",
        "colab": {
          "base_uri": "https://localhost:8080/",
          "height": 202
        },
        "outputId": "23b661eb-2693-44d7-f500-e61cd6143ff5"
      },
      "source": [
        "df[df['duration'] == 2.25]"
      ],
      "execution_count": 228,
      "outputs": [
        {
          "output_type": "execute_result",
          "data": {
            "text/html": [
              "<div>\n",
              "<style scoped>\n",
              "    .dataframe tbody tr th:only-of-type {\n",
              "        vertical-align: middle;\n",
              "    }\n",
              "\n",
              "    .dataframe tbody tr th {\n",
              "        vertical-align: top;\n",
              "    }\n",
              "\n",
              "    .dataframe thead th {\n",
              "        text-align: right;\n",
              "    }\n",
              "</style>\n",
              "<table border=\"1\" class=\"dataframe\">\n",
              "  <thead>\n",
              "    <tr style=\"text-align: right;\">\n",
              "      <th></th>\n",
              "      <th>name</th>\n",
              "      <th>title</th>\n",
              "      <th>description</th>\n",
              "      <th>main_speaker</th>\n",
              "      <th>speaker_occupation</th>\n",
              "      <th>num_speaker</th>\n",
              "      <th>duration</th>\n",
              "      <th>event</th>\n",
              "      <th>film_date</th>\n",
              "      <th>published_date</th>\n",
              "      <th>comments</th>\n",
              "      <th>tags</th>\n",
              "      <th>languages</th>\n",
              "      <th>ratings</th>\n",
              "      <th>related_talks</th>\n",
              "      <th>url</th>\n",
              "      <th>views</th>\n",
              "      <th>dis_quo</th>\n",
              "      <th>month</th>\n",
              "      <th>day</th>\n",
              "      <th>year</th>\n",
              "    </tr>\n",
              "  </thead>\n",
              "  <tbody>\n",
              "    <tr>\n",
              "      <th>239</th>\n",
              "      <td>Murray Gell-Mann: The ancestor of language</td>\n",
              "      <td>The ancestor of language</td>\n",
              "      <td>After speaking at TED2007 on elegance in physi...</td>\n",
              "      <td>Murray Gell-Mann</td>\n",
              "      <td>Physicist</td>\n",
              "      <td>1</td>\n",
              "      <td>2.25</td>\n",
              "      <td>TED2007</td>\n",
              "      <td>03-03-2007</td>\n",
              "      <td>11-06-2008</td>\n",
              "      <td>76</td>\n",
              "      <td>[culture, global issues, history, language, ph...</td>\n",
              "      <td>61</td>\n",
              "      <td>[{'id': 22, 'name': 'Fascinating', 'count': 78...</td>\n",
              "      <td>[{'id': 161, 'hero': 'https://pe.tedcdn.com/im...</td>\n",
              "      <td>https://www.ted.com/talks/murray_gell_mann_on_...</td>\n",
              "      <td>785293</td>\n",
              "      <td>0.000097</td>\n",
              "      <td>Mar</td>\n",
              "      <td>Sat</td>\n",
              "      <td>2007</td>\n",
              "    </tr>\n",
              "  </tbody>\n",
              "</table>\n",
              "</div>"
            ],
            "text/plain": [
              "                                           name  ...  year\n",
              "239  Murray Gell-Mann: The ancestor of language  ...  2007\n",
              "\n",
              "[1 rows x 21 columns]"
            ]
          },
          "metadata": {
            "tags": []
          },
          "execution_count": 228
        }
      ]
    },
    {
      "cell_type": "code",
      "metadata": {
        "_cell_guid": "a1ded5ac-fe80-4e77-b027-0dc414b2aa8b",
        "_uuid": "6ab9d44ab726bfe348d4ced50952d4a2ecbad57f",
        "id": "B91uiszRU4FF",
        "colab_type": "code",
        "colab": {
          "base_uri": "https://localhost:8080/",
          "height": 202
        },
        "outputId": "20869665-287a-4848-8045-1ef1e3bec2d2"
      },
      "source": [
        "df[df['duration'] == 87.6]"
      ],
      "execution_count": 229,
      "outputs": [
        {
          "output_type": "execute_result",
          "data": {
            "text/html": [
              "<div>\n",
              "<style scoped>\n",
              "    .dataframe tbody tr th:only-of-type {\n",
              "        vertical-align: middle;\n",
              "    }\n",
              "\n",
              "    .dataframe tbody tr th {\n",
              "        vertical-align: top;\n",
              "    }\n",
              "\n",
              "    .dataframe thead th {\n",
              "        text-align: right;\n",
              "    }\n",
              "</style>\n",
              "<table border=\"1\" class=\"dataframe\">\n",
              "  <thead>\n",
              "    <tr style=\"text-align: right;\">\n",
              "      <th></th>\n",
              "      <th>name</th>\n",
              "      <th>title</th>\n",
              "      <th>description</th>\n",
              "      <th>main_speaker</th>\n",
              "      <th>speaker_occupation</th>\n",
              "      <th>num_speaker</th>\n",
              "      <th>duration</th>\n",
              "      <th>event</th>\n",
              "      <th>film_date</th>\n",
              "      <th>published_date</th>\n",
              "      <th>comments</th>\n",
              "      <th>tags</th>\n",
              "      <th>languages</th>\n",
              "      <th>ratings</th>\n",
              "      <th>related_talks</th>\n",
              "      <th>url</th>\n",
              "      <th>views</th>\n",
              "      <th>dis_quo</th>\n",
              "      <th>month</th>\n",
              "      <th>day</th>\n",
              "      <th>year</th>\n",
              "    </tr>\n",
              "  </thead>\n",
              "  <tbody>\n",
              "    <tr>\n",
              "      <th>640</th>\n",
              "      <td>Douglas Adams: Parrots, the universe and every...</td>\n",
              "      <td>Parrots, the universe and everything</td>\n",
              "      <td>Blind river dolphins, reclusive lemurs, a parr...</td>\n",
              "      <td>Douglas Adams</td>\n",
              "      <td>Author, satirist</td>\n",
              "      <td>1</td>\n",
              "      <td>87.6</td>\n",
              "      <td>University of California</td>\n",
              "      <td>16-05-2001</td>\n",
              "      <td>16-03-2010</td>\n",
              "      <td>101</td>\n",
              "      <td>[biodiversity, biology, comedy, humor, life, r...</td>\n",
              "      <td>0</td>\n",
              "      <td>[{'id': 22, 'name': 'Fascinating', 'count': 29...</td>\n",
              "      <td>[{'id': 635, 'hero': 'https://pe.tedcdn.com/im...</td>\n",
              "      <td>https://www.ted.com/talks/douglas_adams_parrot...</td>\n",
              "      <td>473220</td>\n",
              "      <td>0.000213</td>\n",
              "      <td>May</td>\n",
              "      <td>Wed</td>\n",
              "      <td>2001</td>\n",
              "    </tr>\n",
              "  </tbody>\n",
              "</table>\n",
              "</div>"
            ],
            "text/plain": [
              "                                                  name  ...  year\n",
              "640  Douglas Adams: Parrots, the universe and every...  ...  2001\n",
              "\n",
              "[1 rows x 21 columns]"
            ]
          },
          "metadata": {
            "tags": []
          },
          "execution_count": 229
        }
      ]
    },
    {
      "cell_type": "markdown",
      "metadata": {
        "_cell_guid": "7c2867eb-30fc-4abd-9582-5ba91bd61a89",
        "_uuid": "686b312d6eb260264f8874c42a0883bb6b442207",
        "id": "Dv08AgBqU4FH",
        "colab_type": "text"
      },
      "source": [
        "The shortest talk was at TED2007 titled **The ancestor of language** by Murray Gell-Mann. The longest talk on TED.com, as we had guessed, is not a TED Talk at all. Rather, it was a talk titled **Parrots, the universe and everything** delivered by Douglas Adams at the University of California in 2001.\n",
        "\n",
        "Let us now check for any correlation between the popularity and the duration of a TED Talk. To make sure we only include TED Talks, we will consider only those talks which have a duration less than 25 minutes."
      ]
    },
    {
      "cell_type": "code",
      "metadata": {
        "_cell_guid": "54062605-0347-4049-885a-02b88845918a",
        "_uuid": "0e4d5655e2bc2f62d321426b5e9ad7e0c19f3fae",
        "id": "GhzWGueXU4FH",
        "colab_type": "code",
        "colab": {
          "base_uri": "https://localhost:8080/",
          "height": 441
        },
        "outputId": "2ad27fda-8592-4481-9f72-0263a65e2869"
      },
      "source": [
        "sns.jointplot(x='duration', y='views', data=df[df['duration'] < 25])\n",
        "plt.xlabel('Duration')\n",
        "plt.ylabel('Views')\n",
        "plt.show()"
      ],
      "execution_count": 230,
      "outputs": [
        {
          "output_type": "display_data",
          "data": {
            "image/png": "[encoded data removed]",
            "text/plain": [
              "<Figure size 432x432 with 3 Axes>"
            ]
          },
          "metadata": {
            "tags": []
          }
        }
      ]
    },
    {
      "cell_type": "markdown",
      "metadata": {
        "_cell_guid": "f4d35a4b-c1d3-4782-8217-01563bb4f6e2",
        "_uuid": "41a63f059e2fc1fec4fdc43b1a9e04cb6acdf3e3",
        "id": "GfSm6EcZU4FJ",
        "colab_type": "text"
      },
      "source": [
        "There seems to be almost no correlation between these two quantities. This strongly suggests that **there is no tangible correlation between the length and the popularity of a TED Talk**. Content is king at TED.\n"
      ]
    },
    {
      "cell_type": "markdown",
      "metadata": {
        "_cell_guid": "c8497220-85e4-42ab-8d78-c724ce61ea45",
        "_uuid": "8585ccddd26f804213ee379c3c11c4c0e8fddf55",
        "id": "tAnYhQQuU4FX",
        "colab_type": "text"
      },
      "source": [
        "## TED Ratings\n",
        "\n",
        "TED allows its users to rate a particular talk on a variety of metrics. We therefore have data on how many people found a particular talk funny, inspiring, creative and a myriad of other verbs. Let us inspect how this ratings dictionary actually looks like."
      ]
    },
    {
      "cell_type": "code",
      "metadata": {
        "_cell_guid": "0186e0ef-f005-4d25-8a74-9aa6dd5d83e8",
        "_uuid": "b850e4d4b26cfa234020f1822df87f6050a20d23",
        "id": "DgcqImJaU4FX",
        "colab_type": "code",
        "colab": {
          "base_uri": "https://localhost:8080/",
          "height": 86
        },
        "outputId": "2755ea90-54df-4da9-9880-da9a8cd9a660"
      },
      "source": [
        "df.iloc[1]['ratings']"
      ],
      "execution_count": 231,
      "outputs": [
        {
          "output_type": "execute_result",
          "data": {
            "application/vnd.google.colaboratory.intrinsic+json": {
              "type": "string"
            },
            "text/plain": [
              "\"[{'id': 7, 'name': 'Funny', 'count': 544}, {'id': 3, 'name': 'Courageous', 'count': 139}, {'id': 2, 'name': 'Confusing', 'count': 62}, {'id': 1, 'name': 'Beautiful', 'count': 58}, {'id': 21, 'name': 'Unconvincing', 'count': 258}, {'id': 11, 'name': 'Longwinded', 'count': 113}, {'id': 8, 'name': 'Informative', 'count': 443}, {'id': 10, 'name': 'Inspiring', 'count': 413}, {'id': 22, 'name': 'Fascinating', 'count': 132}, {'id': 9, 'name': 'Ingenious', 'count': 56}, {'id': 24, 'name': 'Persuasive', 'count': 268}, {'id': 23, 'name': 'Jaw-dropping', 'count': 116}, {'id': 26, 'name': 'Obnoxious', 'count': 131}, {'id': 25, 'name': 'OK', 'count': 203}]\""
            ]
          },
          "metadata": {
            "tags": []
          },
          "execution_count": 231
        }
      ]
    },
    {
      "cell_type": "code",
      "metadata": {
        "_cell_guid": "9baa5173-ce3b-477d-8bbb-5358c9928403",
        "_uuid": "b5d87cbddeb1262adf3b63f3fd3285ca3b533d00",
        "id": "zduLPiCqU4Fa",
        "colab_type": "code",
        "colab": {}
      },
      "source": [
        "df['ratings'] = df['ratings'].apply(lambda x: ast.literal_eval(x))"
      ],
      "execution_count": 232,
      "outputs": []
    },
    {
      "cell_type": "markdown",
      "metadata": {
        "_cell_guid": "38464e9a-6381-4b23-a51b-98fcea212bee",
        "_uuid": "cb122f50a1fd95d456576a4e0e5e46d2049f2d49",
        "id": "DK0rVrXOU4Fc",
        "colab_type": "text"
      },
      "source": [
        "In this section, I want to find out which talks were rated the funniest, the most beautiful, the most confusing and most jaw dropping of all time. The rest is left to the reader to explore. We now need to define three extra features to accomplish this task."
      ]
    },
    {
      "cell_type": "code",
      "metadata": {
        "_cell_guid": "7f0c0563-e5ee-4b4f-8d33-35dc891824b0",
        "_uuid": "a271a306d72fd864bbcd20529d54b1a5c6371b09",
        "id": "K_vGTBybU4Fc",
        "colab_type": "code",
        "colab": {
          "base_uri": "https://localhost:8080/",
          "height": 598
        },
        "outputId": "160f92ed-de03-4c55-f45c-05f1b6d3fe53"
      },
      "source": [
        "df['funny'] = df['ratings'].apply(lambda x: x[0]['count'])\n",
        "df['jawdrop'] = df['ratings'].apply(lambda x: x[-3]['count'])\n",
        "df['beautiful'] = df['ratings'].apply(lambda x: x[3]['count'])\n",
        "df['confusing'] = df['ratings'].apply(lambda x: x[2]['count'])\n",
        "df.head()"
      ],
      "execution_count": 233,
      "outputs": [
        {
          "output_type": "execute_result",
          "data": {
            "text/html": [
              "<div>\n",
              "<style scoped>\n",
              "    .dataframe tbody tr th:only-of-type {\n",
              "        vertical-align: middle;\n",
              "    }\n",
              "\n",
              "    .dataframe tbody tr th {\n",
              "        vertical-align: top;\n",
              "    }\n",
              "\n",
              "    .dataframe thead th {\n",
              "        text-align: right;\n",
              "    }\n",
              "</style>\n",
              "<table border=\"1\" class=\"dataframe\">\n",
              "  <thead>\n",
              "    <tr style=\"text-align: right;\">\n",
              "      <th></th>\n",
              "      <th>name</th>\n",
              "      <th>title</th>\n",
              "      <th>description</th>\n",
              "      <th>main_speaker</th>\n",
              "      <th>speaker_occupation</th>\n",
              "      <th>num_speaker</th>\n",
              "      <th>duration</th>\n",
              "      <th>event</th>\n",
              "      <th>film_date</th>\n",
              "      <th>published_date</th>\n",
              "      <th>comments</th>\n",
              "      <th>tags</th>\n",
              "      <th>languages</th>\n",
              "      <th>ratings</th>\n",
              "      <th>related_talks</th>\n",
              "      <th>url</th>\n",
              "      <th>views</th>\n",
              "      <th>dis_quo</th>\n",
              "      <th>month</th>\n",
              "      <th>day</th>\n",
              "      <th>year</th>\n",
              "      <th>funny</th>\n",
              "      <th>jawdrop</th>\n",
              "      <th>beautiful</th>\n",
              "      <th>confusing</th>\n",
              "    </tr>\n",
              "  </thead>\n",
              "  <tbody>\n",
              "    <tr>\n",
              "      <th>0</th>\n",
              "      <td>Ken Robinson: Do schools kill creativity?</td>\n",
              "      <td>Do schools kill creativity?</td>\n",
              "      <td>Sir Ken Robinson makes an entertaining and pro...</td>\n",
              "      <td>Ken Robinson</td>\n",
              "      <td>Author/educator</td>\n",
              "      <td>1</td>\n",
              "      <td>19.400000</td>\n",
              "      <td>TED2006</td>\n",
              "      <td>25-02-2006</td>\n",
              "      <td>27-06-2006</td>\n",
              "      <td>4553</td>\n",
              "      <td>[children, creativity, culture, dance, educati...</td>\n",
              "      <td>60</td>\n",
              "      <td>[{'id': 7, 'name': 'Funny', 'count': 19645}, {...</td>\n",
              "      <td>[{'id': 865, 'hero': 'https://pe.tedcdn.com/im...</td>\n",
              "      <td>https://www.ted.com/talks/ken_robinson_says_sc...</td>\n",
              "      <td>47227110</td>\n",
              "      <td>0.000096</td>\n",
              "      <td>Feb</td>\n",
              "      <td>Sat</td>\n",
              "      <td>2006</td>\n",
              "      <td>19645</td>\n",
              "      <td>1174</td>\n",
              "      <td>3253</td>\n",
              "      <td>6073</td>\n",
              "    </tr>\n",
              "    <tr>\n",
              "      <th>1</th>\n",
              "      <td>Al Gore: Averting the climate crisis</td>\n",
              "      <td>Averting the climate crisis</td>\n",
              "      <td>With the same humor and humanity he exuded in ...</td>\n",
              "      <td>Al Gore</td>\n",
              "      <td>Climate advocate</td>\n",
              "      <td>1</td>\n",
              "      <td>16.283333</td>\n",
              "      <td>TED2006</td>\n",
              "      <td>25-02-2006</td>\n",
              "      <td>27-06-2006</td>\n",
              "      <td>265</td>\n",
              "      <td>[alternative energy, cars, climate change, cul...</td>\n",
              "      <td>43</td>\n",
              "      <td>[{'id': 7, 'name': 'Funny', 'count': 544}, {'i...</td>\n",
              "      <td>[{'id': 243, 'hero': 'https://pe.tedcdn.com/im...</td>\n",
              "      <td>https://www.ted.com/talks/al_gore_on_averting_...</td>\n",
              "      <td>3200520</td>\n",
              "      <td>0.000083</td>\n",
              "      <td>Feb</td>\n",
              "      <td>Sat</td>\n",
              "      <td>2006</td>\n",
              "      <td>544</td>\n",
              "      <td>116</td>\n",
              "      <td>58</td>\n",
              "      <td>62</td>\n",
              "    </tr>\n",
              "    <tr>\n",
              "      <th>2</th>\n",
              "      <td>David Pogue: Simplicity sells</td>\n",
              "      <td>Simplicity sells</td>\n",
              "      <td>New York Times columnist David Pogue takes aim...</td>\n",
              "      <td>David Pogue</td>\n",
              "      <td>Technology columnist</td>\n",
              "      <td>1</td>\n",
              "      <td>21.433333</td>\n",
              "      <td>TED2006</td>\n",
              "      <td>24-02-2006</td>\n",
              "      <td>27-06-2006</td>\n",
              "      <td>124</td>\n",
              "      <td>[computers, entertainment, interface design, m...</td>\n",
              "      <td>26</td>\n",
              "      <td>[{'id': 7, 'name': 'Funny', 'count': 964}, {'i...</td>\n",
              "      <td>[{'id': 1725, 'hero': 'https://pe.tedcdn.com/i...</td>\n",
              "      <td>https://www.ted.com/talks/david_pogue_says_sim...</td>\n",
              "      <td>1636292</td>\n",
              "      <td>0.000076</td>\n",
              "      <td>Feb</td>\n",
              "      <td>Fri</td>\n",
              "      <td>2006</td>\n",
              "      <td>964</td>\n",
              "      <td>230</td>\n",
              "      <td>60</td>\n",
              "      <td>183</td>\n",
              "    </tr>\n",
              "    <tr>\n",
              "      <th>3</th>\n",
              "      <td>Majora Carter: Greening the ghetto</td>\n",
              "      <td>Greening the ghetto</td>\n",
              "      <td>In an emotionally charged talk, MacArthur-winn...</td>\n",
              "      <td>Majora Carter</td>\n",
              "      <td>Activist for environmental justice</td>\n",
              "      <td>1</td>\n",
              "      <td>18.600000</td>\n",
              "      <td>TED2006</td>\n",
              "      <td>26-02-2006</td>\n",
              "      <td>27-06-2006</td>\n",
              "      <td>200</td>\n",
              "      <td>[MacArthur grant, activism, business, cities, ...</td>\n",
              "      <td>35</td>\n",
              "      <td>[{'id': 3, 'name': 'Courageous', 'count': 760}...</td>\n",
              "      <td>[{'id': 1041, 'hero': 'https://pe.tedcdn.com/i...</td>\n",
              "      <td>https://www.ted.com/talks/majora_carter_s_tale...</td>\n",
              "      <td>1697550</td>\n",
              "      <td>0.000118</td>\n",
              "      <td>Feb</td>\n",
              "      <td>Sun</td>\n",
              "      <td>2006</td>\n",
              "      <td>760</td>\n",
              "      <td>230</td>\n",
              "      <td>59</td>\n",
              "      <td>32</td>\n",
              "    </tr>\n",
              "    <tr>\n",
              "      <th>4</th>\n",
              "      <td>Hans Rosling: The best stats you've ever seen</td>\n",
              "      <td>The best stats you've ever seen</td>\n",
              "      <td>You've never seen data presented like this. Wi...</td>\n",
              "      <td>Hans Rosling</td>\n",
              "      <td>Global health expert; data visionary</td>\n",
              "      <td>1</td>\n",
              "      <td>19.833333</td>\n",
              "      <td>TED2006</td>\n",
              "      <td>22-02-2006</td>\n",
              "      <td>27-06-2006</td>\n",
              "      <td>593</td>\n",
              "      <td>[Africa, Asia, Google, demo, economics, global...</td>\n",
              "      <td>48</td>\n",
              "      <td>[{'id': 9, 'name': 'Ingenious', 'count': 3202}...</td>\n",
              "      <td>[{'id': 2056, 'hero': 'https://pe.tedcdn.com/i...</td>\n",
              "      <td>https://www.ted.com/talks/hans_rosling_shows_t...</td>\n",
              "      <td>12005869</td>\n",
              "      <td>0.000049</td>\n",
              "      <td>Feb</td>\n",
              "      <td>Wed</td>\n",
              "      <td>2006</td>\n",
              "      <td>3202</td>\n",
              "      <td>2542</td>\n",
              "      <td>318</td>\n",
              "      <td>942</td>\n",
              "    </tr>\n",
              "  </tbody>\n",
              "</table>\n",
              "</div>"
            ],
            "text/plain": [
              "                                            name  ... confusing\n",
              "0      Ken Robinson: Do schools kill creativity?  ...      6073\n",
              "1           Al Gore: Averting the climate crisis  ...        62\n",
              "2                  David Pogue: Simplicity sells  ...       183\n",
              "3             Majora Carter: Greening the ghetto  ...        32\n",
              "4  Hans Rosling: The best stats you've ever seen  ...       942\n",
              "\n",
              "[5 rows x 25 columns]"
            ]
          },
          "metadata": {
            "tags": []
          },
          "execution_count": 233
        }
      ]
    },
    {
      "cell_type": "markdown",
      "metadata": {
        "_cell_guid": "5d7d00cf-ed6f-4c33-b472-aa5b89747dd7",
        "_uuid": "cdf6924db3c56e0b51aec65659402a0a203a1ce3",
        "id": "bQeRKJPXU4Fd",
        "colab_type": "text"
      },
      "source": [
        "### Funniest Talks of all time"
      ]
    },
    {
      "cell_type": "code",
      "metadata": {
        "_cell_guid": "67d833e1-4770-49b1-b00e-6556f4b57086",
        "_uuid": "ea7f845428a2b57387fe4b5fb54470e7f2182cb2",
        "id": "TY0ALkWTU4Fe",
        "colab_type": "code",
        "colab": {
          "base_uri": "https://localhost:8080/",
          "height": 359
        },
        "outputId": "6f1dee9b-1082-44d6-e9f2-f60c092a08cc"
      },
      "source": [
        "df[['title', 'main_speaker', 'views', 'published_date', 'funny']].sort_values('funny', ascending=False)[:10]"
      ],
      "execution_count": 234,
      "outputs": [
        {
          "output_type": "execute_result",
          "data": {
            "text/html": [
              "<div>\n",
              "<style scoped>\n",
              "    .dataframe tbody tr th:only-of-type {\n",
              "        vertical-align: middle;\n",
              "    }\n",
              "\n",
              "    .dataframe tbody tr th {\n",
              "        vertical-align: top;\n",
              "    }\n",
              "\n",
              "    .dataframe thead th {\n",
              "        text-align: right;\n",
              "    }\n",
              "</style>\n",
              "<table border=\"1\" class=\"dataframe\">\n",
              "  <thead>\n",
              "    <tr style=\"text-align: right;\">\n",
              "      <th></th>\n",
              "      <th>title</th>\n",
              "      <th>main_speaker</th>\n",
              "      <th>views</th>\n",
              "      <th>published_date</th>\n",
              "      <th>funny</th>\n",
              "    </tr>\n",
              "  </thead>\n",
              "  <tbody>\n",
              "    <tr>\n",
              "      <th>837</th>\n",
              "      <td>The power of vulnerability</td>\n",
              "      <td>Brené Brown</td>\n",
              "      <td>31168150</td>\n",
              "      <td>23-12-2010</td>\n",
              "      <td>21444</td>\n",
              "    </tr>\n",
              "    <tr>\n",
              "      <th>0</th>\n",
              "      <td>Do schools kill creativity?</td>\n",
              "      <td>Ken Robinson</td>\n",
              "      <td>47227110</td>\n",
              "      <td>27-06-2006</td>\n",
              "      <td>19645</td>\n",
              "    </tr>\n",
              "    <tr>\n",
              "      <th>1030</th>\n",
              "      <td>How to live before you die</td>\n",
              "      <td>Steve Jobs</td>\n",
              "      <td>8744428</td>\n",
              "      <td>06-10-2011</td>\n",
              "      <td>17290</td>\n",
              "    </tr>\n",
              "    <tr>\n",
              "      <th>201</th>\n",
              "      <td>My stroke of insight</td>\n",
              "      <td>Jill Bolte Taylor</td>\n",
              "      <td>21190883</td>\n",
              "      <td>12-03-2008</td>\n",
              "      <td>14447</td>\n",
              "    </tr>\n",
              "    <tr>\n",
              "      <th>1129</th>\n",
              "      <td>The happy secret to better work</td>\n",
              "      <td>Shawn Achor</td>\n",
              "      <td>16209727</td>\n",
              "      <td>01-02-2012</td>\n",
              "      <td>11213</td>\n",
              "    </tr>\n",
              "    <tr>\n",
              "      <th>1940</th>\n",
              "      <td>The price of shame</td>\n",
              "      <td>Monica Lewinsky</td>\n",
              "      <td>11443190</td>\n",
              "      <td>20-03-2015</td>\n",
              "      <td>8668</td>\n",
              "    </tr>\n",
              "    <tr>\n",
              "      <th>2109</th>\n",
              "      <td>What makes a good life? Lessons from the longe...</td>\n",
              "      <td>Robert Waldinger</td>\n",
              "      <td>16601927</td>\n",
              "      <td>23-12-2015</td>\n",
              "      <td>8590</td>\n",
              "    </tr>\n",
              "    <tr>\n",
              "      <th>1747</th>\n",
              "      <td>Why good leaders make you feel safe</td>\n",
              "      <td>Simon Sinek</td>\n",
              "      <td>6803938</td>\n",
              "      <td>19-05-2014</td>\n",
              "      <td>8569</td>\n",
              "    </tr>\n",
              "    <tr>\n",
              "      <th>553</th>\n",
              "      <td>The thrilling potential of SixthSense technology</td>\n",
              "      <td>Pranav Mistry</td>\n",
              "      <td>16097077</td>\n",
              "      <td>16-11-2009</td>\n",
              "      <td>8416</td>\n",
              "    </tr>\n",
              "    <tr>\n",
              "      <th>176</th>\n",
              "      <td>Underwater astonishments</td>\n",
              "      <td>David Gallo</td>\n",
              "      <td>13926113</td>\n",
              "      <td>11-01-2008</td>\n",
              "      <td>8328</td>\n",
              "    </tr>\n",
              "  </tbody>\n",
              "</table>\n",
              "</div>"
            ],
            "text/plain": [
              "                                                  title  ...  funny\n",
              "837                          The power of vulnerability  ...  21444\n",
              "0                           Do schools kill creativity?  ...  19645\n",
              "1030                         How to live before you die  ...  17290\n",
              "201                                My stroke of insight  ...  14447\n",
              "1129                    The happy secret to better work  ...  11213\n",
              "1940                                 The price of shame  ...   8668\n",
              "2109  What makes a good life? Lessons from the longe...  ...   8590\n",
              "1747                Why good leaders make you feel safe  ...   8569\n",
              "553    The thrilling potential of SixthSense technology  ...   8416\n",
              "176                            Underwater astonishments  ...   8328\n",
              "\n",
              "[10 rows x 5 columns]"
            ]
          },
          "metadata": {
            "tags": []
          },
          "execution_count": 234
        }
      ]
    },
    {
      "cell_type": "markdown",
      "metadata": {
        "_cell_guid": "9860198c-1312-4b2d-949e-d6bd604ef85a",
        "_uuid": "d29d80a0a09700686925c08c1f5e7a1d115bf3b2",
        "id": "Edi39nKVU4Ff",
        "colab_type": "text"
      },
      "source": [
        "### Most Beautiful Talks of all time"
      ]
    },
    {
      "cell_type": "code",
      "metadata": {
        "_cell_guid": "5471ded8-40a6-419c-b60a-718e5ac0ef86",
        "_uuid": "c7c35363253974ea2f3369e6d9cfbfd9bf346fdd",
        "id": "VMd9NewlU4Fg",
        "colab_type": "code",
        "colab": {
          "base_uri": "https://localhost:8080/",
          "height": 359
        },
        "outputId": "ae6db82e-a6a2-4a74-f7f4-545699438d38"
      },
      "source": [
        "df[['title', 'main_speaker', 'views', 'published_date', 'beautiful']].sort_values('beautiful', ascending=False)[:10]"
      ],
      "execution_count": 235,
      "outputs": [
        {
          "output_type": "execute_result",
          "data": {
            "text/html": [
              "<div>\n",
              "<style scoped>\n",
              "    .dataframe tbody tr th:only-of-type {\n",
              "        vertical-align: middle;\n",
              "    }\n",
              "\n",
              "    .dataframe tbody tr th {\n",
              "        vertical-align: top;\n",
              "    }\n",
              "\n",
              "    .dataframe thead th {\n",
              "        text-align: right;\n",
              "    }\n",
              "</style>\n",
              "<table border=\"1\" class=\"dataframe\">\n",
              "  <thead>\n",
              "    <tr style=\"text-align: right;\">\n",
              "      <th></th>\n",
              "      <th>title</th>\n",
              "      <th>main_speaker</th>\n",
              "      <th>views</th>\n",
              "      <th>published_date</th>\n",
              "      <th>beautiful</th>\n",
              "    </tr>\n",
              "  </thead>\n",
              "  <tbody>\n",
              "    <tr>\n",
              "      <th>201</th>\n",
              "      <td>My stroke of insight</td>\n",
              "      <td>Jill Bolte Taylor</td>\n",
              "      <td>21190883</td>\n",
              "      <td>12-03-2008</td>\n",
              "      <td>9437</td>\n",
              "    </tr>\n",
              "    <tr>\n",
              "      <th>677</th>\n",
              "      <td>How great leaders inspire action</td>\n",
              "      <td>Simon Sinek</td>\n",
              "      <td>34309432</td>\n",
              "      <td>04-05-2010</td>\n",
              "      <td>8845</td>\n",
              "    </tr>\n",
              "    <tr>\n",
              "      <th>381</th>\n",
              "      <td>Your elusive creative genius</td>\n",
              "      <td>Elizabeth Gilbert</td>\n",
              "      <td>13155478</td>\n",
              "      <td>09-02-2009</td>\n",
              "      <td>8130</td>\n",
              "    </tr>\n",
              "    <tr>\n",
              "      <th>2161</th>\n",
              "      <td>Inside the mind of a master procrastinator</td>\n",
              "      <td>Tim Urban</td>\n",
              "      <td>14745406</td>\n",
              "      <td>15-03-2016</td>\n",
              "      <td>7445</td>\n",
              "    </tr>\n",
              "    <tr>\n",
              "      <th>1129</th>\n",
              "      <td>The happy secret to better work</td>\n",
              "      <td>Shawn Achor</td>\n",
              "      <td>16209727</td>\n",
              "      <td>01-02-2012</td>\n",
              "      <td>7315</td>\n",
              "    </tr>\n",
              "    <tr>\n",
              "      <th>1779</th>\n",
              "      <td>Which country does the most good for the world?</td>\n",
              "      <td>Simon Anholt</td>\n",
              "      <td>4548276</td>\n",
              "      <td>02-07-2014</td>\n",
              "      <td>6390</td>\n",
              "    </tr>\n",
              "    <tr>\n",
              "      <th>1346</th>\n",
              "      <td>Your body language may shape who you are</td>\n",
              "      <td>Amy Cuddy</td>\n",
              "      <td>43155405</td>\n",
              "      <td>01-10-2012</td>\n",
              "      <td>6217</td>\n",
              "    </tr>\n",
              "    <tr>\n",
              "      <th>500</th>\n",
              "      <td>The puzzle of motivation</td>\n",
              "      <td>Dan Pink</td>\n",
              "      <td>18830983</td>\n",
              "      <td>24-08-2009</td>\n",
              "      <td>4797</td>\n",
              "    </tr>\n",
              "    <tr>\n",
              "      <th>614</th>\n",
              "      <td>Teach every child about food</td>\n",
              "      <td>Jamie Oliver</td>\n",
              "      <td>7638978</td>\n",
              "      <td>11-02-2010</td>\n",
              "      <td>4779</td>\n",
              "    </tr>\n",
              "    <tr>\n",
              "      <th>553</th>\n",
              "      <td>The thrilling potential of SixthSense technology</td>\n",
              "      <td>Pranav Mistry</td>\n",
              "      <td>16097077</td>\n",
              "      <td>16-11-2009</td>\n",
              "      <td>4702</td>\n",
              "    </tr>\n",
              "  </tbody>\n",
              "</table>\n",
              "</div>"
            ],
            "text/plain": [
              "                                                 title  ... beautiful\n",
              "201                               My stroke of insight  ...      9437\n",
              "677                   How great leaders inspire action  ...      8845\n",
              "381                       Your elusive creative genius  ...      8130\n",
              "2161        Inside the mind of a master procrastinator  ...      7445\n",
              "1129                   The happy secret to better work  ...      7315\n",
              "1779   Which country does the most good for the world?  ...      6390\n",
              "1346          Your body language may shape who you are  ...      6217\n",
              "500                           The puzzle of motivation  ...      4797\n",
              "614                       Teach every child about food  ...      4779\n",
              "553   The thrilling potential of SixthSense technology  ...      4702\n",
              "\n",
              "[10 rows x 5 columns]"
            ]
          },
          "metadata": {
            "tags": []
          },
          "execution_count": 235
        }
      ]
    },
    {
      "cell_type": "markdown",
      "metadata": {
        "_cell_guid": "b2a130de-aa11-490e-866c-f0c2474c18e3",
        "_uuid": "4727dc94891648907fafea16819d9987c7b4cd7b",
        "id": "KP7bCBwLU4Fh",
        "colab_type": "text"
      },
      "source": [
        "### Most Jaw Dropping Talks of all time"
      ]
    },
    {
      "cell_type": "code",
      "metadata": {
        "_cell_guid": "43c9cc58-bf63-49e8-8439-c4667ee9642d",
        "_uuid": "336aef6355c661a81f529855280cc323b03c2648",
        "id": "1h8Q9eIsU4Fh",
        "colab_type": "code",
        "colab": {
          "base_uri": "https://localhost:8080/",
          "height": 359
        },
        "outputId": "2745a5d3-daf9-4508-8f30-d2735bac5f52"
      },
      "source": [
        "df[['title', 'main_speaker', 'views', 'published_date', 'jawdrop']].sort_values('jawdrop', ascending=False)[:10]"
      ],
      "execution_count": 236,
      "outputs": [
        {
          "output_type": "execute_result",
          "data": {
            "text/html": [
              "<div>\n",
              "<style scoped>\n",
              "    .dataframe tbody tr th:only-of-type {\n",
              "        vertical-align: middle;\n",
              "    }\n",
              "\n",
              "    .dataframe tbody tr th {\n",
              "        vertical-align: top;\n",
              "    }\n",
              "\n",
              "    .dataframe thead th {\n",
              "        text-align: right;\n",
              "    }\n",
              "</style>\n",
              "<table border=\"1\" class=\"dataframe\">\n",
              "  <thead>\n",
              "    <tr style=\"text-align: right;\">\n",
              "      <th></th>\n",
              "      <th>title</th>\n",
              "      <th>main_speaker</th>\n",
              "      <th>views</th>\n",
              "      <th>published_date</th>\n",
              "      <th>jawdrop</th>\n",
              "    </tr>\n",
              "  </thead>\n",
              "  <tbody>\n",
              "    <tr>\n",
              "      <th>4</th>\n",
              "      <td>The best stats you've ever seen</td>\n",
              "      <td>Hans Rosling</td>\n",
              "      <td>12005869</td>\n",
              "      <td>27-06-2006</td>\n",
              "      <td>2542</td>\n",
              "    </tr>\n",
              "    <tr>\n",
              "      <th>1163</th>\n",
              "      <td>The power of introverts</td>\n",
              "      <td>Susan Cain</td>\n",
              "      <td>17629275</td>\n",
              "      <td>02-03-2012</td>\n",
              "      <td>2467</td>\n",
              "    </tr>\n",
              "    <tr>\n",
              "      <th>381</th>\n",
              "      <td>Your elusive creative genius</td>\n",
              "      <td>Elizabeth Gilbert</td>\n",
              "      <td>13155478</td>\n",
              "      <td>09-02-2009</td>\n",
              "      <td>2093</td>\n",
              "    </tr>\n",
              "    <tr>\n",
              "      <th>1030</th>\n",
              "      <td>How to live before you die</td>\n",
              "      <td>Steve Jobs</td>\n",
              "      <td>8744428</td>\n",
              "      <td>06-10-2011</td>\n",
              "      <td>1368</td>\n",
              "    </tr>\n",
              "    <tr>\n",
              "      <th>0</th>\n",
              "      <td>Do schools kill creativity?</td>\n",
              "      <td>Ken Robinson</td>\n",
              "      <td>47227110</td>\n",
              "      <td>27-06-2006</td>\n",
              "      <td>1174</td>\n",
              "    </tr>\n",
              "    <tr>\n",
              "      <th>677</th>\n",
              "      <td>How great leaders inspire action</td>\n",
              "      <td>Simon Sinek</td>\n",
              "      <td>34309432</td>\n",
              "      <td>04-05-2010</td>\n",
              "      <td>1161</td>\n",
              "    </tr>\n",
              "    <tr>\n",
              "      <th>29</th>\n",
              "      <td>The surprising science of happiness</td>\n",
              "      <td>Dan Gilbert</td>\n",
              "      <td>14689301</td>\n",
              "      <td>26-09-2006</td>\n",
              "      <td>1047</td>\n",
              "    </tr>\n",
              "    <tr>\n",
              "      <th>117</th>\n",
              "      <td>New insights on poverty</td>\n",
              "      <td>Hans Rosling</td>\n",
              "      <td>3243784</td>\n",
              "      <td>25-06-2007</td>\n",
              "      <td>828</td>\n",
              "    </tr>\n",
              "    <tr>\n",
              "      <th>500</th>\n",
              "      <td>The puzzle of motivation</td>\n",
              "      <td>Dan Pink</td>\n",
              "      <td>18830983</td>\n",
              "      <td>24-08-2009</td>\n",
              "      <td>825</td>\n",
              "    </tr>\n",
              "    <tr>\n",
              "      <th>1170</th>\n",
              "      <td>Why you will fail to have a great career</td>\n",
              "      <td>Larry Smith</td>\n",
              "      <td>5917201</td>\n",
              "      <td>11-03-2012</td>\n",
              "      <td>752</td>\n",
              "    </tr>\n",
              "  </tbody>\n",
              "</table>\n",
              "</div>"
            ],
            "text/plain": [
              "                                         title  ... jawdrop\n",
              "4              The best stats you've ever seen  ...    2542\n",
              "1163                   The power of introverts  ...    2467\n",
              "381               Your elusive creative genius  ...    2093\n",
              "1030                How to live before you die  ...    1368\n",
              "0                  Do schools kill creativity?  ...    1174\n",
              "677           How great leaders inspire action  ...    1161\n",
              "29         The surprising science of happiness  ...    1047\n",
              "117                    New insights on poverty  ...     828\n",
              "500                   The puzzle of motivation  ...     825\n",
              "1170  Why you will fail to have a great career  ...     752\n",
              "\n",
              "[10 rows x 5 columns]"
            ]
          },
          "metadata": {
            "tags": []
          },
          "execution_count": 236
        }
      ]
    },
    {
      "cell_type": "markdown",
      "metadata": {
        "_cell_guid": "e40be614-6741-4144-b99e-f22037e0d88e",
        "_uuid": "a4b560d6c97a93d44e96a71ef5ed6b76f7c0df29",
        "id": "UBeZgfI6U4Fi",
        "colab_type": "text"
      },
      "source": [
        "### Most Confusing Talks of all time"
      ]
    },
    {
      "cell_type": "code",
      "metadata": {
        "_cell_guid": "f3f9bb4e-d552-46e8-8300-05b4ac49834c",
        "_uuid": "9f0410a41e9d9129ca079b74ccc6feba9dc18162",
        "id": "u4QpItS5U4Fi",
        "colab_type": "code",
        "colab": {
          "base_uri": "https://localhost:8080/",
          "height": 359
        },
        "outputId": "624bf72d-e529-4ade-ba1e-01e2158320f9"
      },
      "source": [
        "df[['title', 'main_speaker', 'views', 'published_date', 'confusing']].sort_values('confusing', ascending=False)[:10]"
      ],
      "execution_count": 237,
      "outputs": [
        {
          "output_type": "execute_result",
          "data": {
            "text/html": [
              "<div>\n",
              "<style scoped>\n",
              "    .dataframe tbody tr th:only-of-type {\n",
              "        vertical-align: middle;\n",
              "    }\n",
              "\n",
              "    .dataframe tbody tr th {\n",
              "        vertical-align: top;\n",
              "    }\n",
              "\n",
              "    .dataframe thead th {\n",
              "        text-align: right;\n",
              "    }\n",
              "</style>\n",
              "<table border=\"1\" class=\"dataframe\">\n",
              "  <thead>\n",
              "    <tr style=\"text-align: right;\">\n",
              "      <th></th>\n",
              "      <th>title</th>\n",
              "      <th>main_speaker</th>\n",
              "      <th>views</th>\n",
              "      <th>published_date</th>\n",
              "      <th>confusing</th>\n",
              "    </tr>\n",
              "  </thead>\n",
              "  <tbody>\n",
              "    <tr>\n",
              "      <th>1346</th>\n",
              "      <td>Your body language may shape who you are</td>\n",
              "      <td>Amy Cuddy</td>\n",
              "      <td>43155405</td>\n",
              "      <td>01-10-2012</td>\n",
              "      <td>11111</td>\n",
              "    </tr>\n",
              "    <tr>\n",
              "      <th>201</th>\n",
              "      <td>My stroke of insight</td>\n",
              "      <td>Jill Bolte Taylor</td>\n",
              "      <td>21190883</td>\n",
              "      <td>12-03-2008</td>\n",
              "      <td>10464</td>\n",
              "    </tr>\n",
              "    <tr>\n",
              "      <th>1163</th>\n",
              "      <td>The power of introverts</td>\n",
              "      <td>Susan Cain</td>\n",
              "      <td>17629275</td>\n",
              "      <td>02-03-2012</td>\n",
              "      <td>10218</td>\n",
              "    </tr>\n",
              "    <tr>\n",
              "      <th>246</th>\n",
              "      <td>The transformative power of classical music</td>\n",
              "      <td>Benjamin Zander</td>\n",
              "      <td>9315483</td>\n",
              "      <td>25-06-2008</td>\n",
              "      <td>8108</td>\n",
              "    </tr>\n",
              "    <tr>\n",
              "      <th>837</th>\n",
              "      <td>The power of vulnerability</td>\n",
              "      <td>Brené Brown</td>\n",
              "      <td>31168150</td>\n",
              "      <td>23-12-2010</td>\n",
              "      <td>7942</td>\n",
              "    </tr>\n",
              "    <tr>\n",
              "      <th>972</th>\n",
              "      <td>Building a park in the sky</td>\n",
              "      <td>Robert Hammond</td>\n",
              "      <td>704205</td>\n",
              "      <td>30-06-2011</td>\n",
              "      <td>6685</td>\n",
              "    </tr>\n",
              "    <tr>\n",
              "      <th>0</th>\n",
              "      <td>Do schools kill creativity?</td>\n",
              "      <td>Ken Robinson</td>\n",
              "      <td>47227110</td>\n",
              "      <td>27-06-2006</td>\n",
              "      <td>6073</td>\n",
              "    </tr>\n",
              "    <tr>\n",
              "      <th>919</th>\n",
              "      <td>3 things I learned while my plane crashed</td>\n",
              "      <td>Ric Elias</td>\n",
              "      <td>6636475</td>\n",
              "      <td>22-04-2011</td>\n",
              "      <td>5834</td>\n",
              "    </tr>\n",
              "    <tr>\n",
              "      <th>176</th>\n",
              "      <td>Underwater astonishments</td>\n",
              "      <td>David Gallo</td>\n",
              "      <td>13926113</td>\n",
              "      <td>11-01-2008</td>\n",
              "      <td>5201</td>\n",
              "    </tr>\n",
              "    <tr>\n",
              "      <th>1776</th>\n",
              "      <td>How to speak so that people want to listen</td>\n",
              "      <td>Julian Treasure</td>\n",
              "      <td>21594632</td>\n",
              "      <td>27-06-2014</td>\n",
              "      <td>5167</td>\n",
              "    </tr>\n",
              "  </tbody>\n",
              "</table>\n",
              "</div>"
            ],
            "text/plain": [
              "                                            title  ... confusing\n",
              "1346     Your body language may shape who you are  ...     11111\n",
              "201                          My stroke of insight  ...     10464\n",
              "1163                      The power of introverts  ...     10218\n",
              "246   The transformative power of classical music  ...      8108\n",
              "837                    The power of vulnerability  ...      7942\n",
              "972                    Building a park in the sky  ...      6685\n",
              "0                     Do schools kill creativity?  ...      6073\n",
              "919     3 things I learned while my plane crashed  ...      5834\n",
              "176                      Underwater astonishments  ...      5201\n",
              "1776   How to speak so that people want to listen  ...      5167\n",
              "\n",
              "[10 rows x 5 columns]"
            ]
          },
          "metadata": {
            "tags": []
          },
          "execution_count": 237
        }
      ]
    }
  ]
}